{
 "cells": [
  {
   "cell_type": "code",
   "execution_count": 1,
   "id": "3f3d8873",
   "metadata": {},
   "outputs": [],
   "source": [
    "import numpy as np\n",
    "import pandas as pd\n",
    "%matplotlib inline\n",
    "import matplotlib.pyplot as plt\n",
    "import seaborn as sns"
   ]
  },
  {
   "cell_type": "code",
   "execution_count": 2,
   "id": "c7c232b2",
   "metadata": {},
   "outputs": [],
   "source": [
    "df = pd.read_csv(r'https://raw.githubusercontent.com/alexeygrigorev/mlbookcamp-code/master/chapter-02-car-price/data.csv')\n"
   ]
  },
  {
   "cell_type": "code",
   "execution_count": 3,
   "id": "047a17f6",
   "metadata": {},
   "outputs": [],
   "source": [
    "features = ['make', 'model', 'year', 'engine_hp','engine_cylinders', 'transmission_type', 'vehicle_style','highway_mpg', 'city_mpg', 'msrp']"
   ]
  },
  {
   "cell_type": "code",
   "execution_count": 4,
   "id": "a01c60de",
   "metadata": {},
   "outputs": [],
   "source": [
    "df.columns = df.columns.str.lower().str.replace(' ', '_')\n",
    "\n",
    "categorical_columns = list(df.dtypes[df.dtypes == 'object'].index)\n",
    "\n",
    "for c in categorical_columns:\n",
    "    df[c] = df[c].str.lower().str.replace(' ', '_')"
   ]
  },
  {
   "cell_type": "code",
   "execution_count": 5,
   "id": "4d46d005",
   "metadata": {},
   "outputs": [],
   "source": [
    "hw_df = df[features]"
   ]
  },
  {
   "cell_type": "code",
   "execution_count": 6,
   "id": "3f7198b6",
   "metadata": {},
   "outputs": [
    {
     "data": {
      "text/plain": [
       "make                  0\n",
       "model                 0\n",
       "year                  0\n",
       "engine_hp            69\n",
       "engine_cylinders     30\n",
       "transmission_type     0\n",
       "vehicle_style         0\n",
       "highway_mpg           0\n",
       "city_mpg              0\n",
       "msrp                  0\n",
       "dtype: int64"
      ]
     },
     "execution_count": 6,
     "metadata": {},
     "output_type": "execute_result"
    }
   ],
   "source": [
    "hw_df.isnull().sum()"
   ]
  },
  {
   "cell_type": "code",
   "execution_count": 7,
   "id": "87e205e2",
   "metadata": {},
   "outputs": [],
   "source": [
    "hw_df = hw_df.fillna(0)"
   ]
  },
  {
   "cell_type": "code",
   "execution_count": 8,
   "id": "84cf2629",
   "metadata": {},
   "outputs": [],
   "source": [
    "average_price = hw_df['msrp'].mean()\n",
    "hw_df['above_average'] = (hw_df['msrp'] >= average_price).astype(int)\n",
    "hw_df = hw_df.drop('msrp', axis=1)"
   ]
  },
  {
   "cell_type": "code",
   "execution_count": 9,
   "id": "664d2f0d",
   "metadata": {},
   "outputs": [
    {
     "data": {
      "text/html": [
       "<div>\n",
       "<style scoped>\n",
       "    .dataframe tbody tr th:only-of-type {\n",
       "        vertical-align: middle;\n",
       "    }\n",
       "\n",
       "    .dataframe tbody tr th {\n",
       "        vertical-align: top;\n",
       "    }\n",
       "\n",
       "    .dataframe thead th {\n",
       "        text-align: right;\n",
       "    }\n",
       "</style>\n",
       "<table border=\"1\" class=\"dataframe\">\n",
       "  <thead>\n",
       "    <tr style=\"text-align: right;\">\n",
       "      <th></th>\n",
       "      <th>make</th>\n",
       "      <th>model</th>\n",
       "      <th>year</th>\n",
       "      <th>engine_hp</th>\n",
       "      <th>engine_cylinders</th>\n",
       "      <th>transmission_type</th>\n",
       "      <th>vehicle_style</th>\n",
       "      <th>highway_mpg</th>\n",
       "      <th>city_mpg</th>\n",
       "      <th>above_average</th>\n",
       "    </tr>\n",
       "  </thead>\n",
       "  <tbody>\n",
       "    <tr>\n",
       "      <th>0</th>\n",
       "      <td>bmw</td>\n",
       "      <td>1_series_m</td>\n",
       "      <td>2011</td>\n",
       "      <td>335.0</td>\n",
       "      <td>6.0</td>\n",
       "      <td>manual</td>\n",
       "      <td>coupe</td>\n",
       "      <td>26</td>\n",
       "      <td>19</td>\n",
       "      <td>1</td>\n",
       "    </tr>\n",
       "    <tr>\n",
       "      <th>1</th>\n",
       "      <td>bmw</td>\n",
       "      <td>1_series</td>\n",
       "      <td>2011</td>\n",
       "      <td>300.0</td>\n",
       "      <td>6.0</td>\n",
       "      <td>manual</td>\n",
       "      <td>convertible</td>\n",
       "      <td>28</td>\n",
       "      <td>19</td>\n",
       "      <td>1</td>\n",
       "    </tr>\n",
       "    <tr>\n",
       "      <th>2</th>\n",
       "      <td>bmw</td>\n",
       "      <td>1_series</td>\n",
       "      <td>2011</td>\n",
       "      <td>300.0</td>\n",
       "      <td>6.0</td>\n",
       "      <td>manual</td>\n",
       "      <td>coupe</td>\n",
       "      <td>28</td>\n",
       "      <td>20</td>\n",
       "      <td>0</td>\n",
       "    </tr>\n",
       "    <tr>\n",
       "      <th>3</th>\n",
       "      <td>bmw</td>\n",
       "      <td>1_series</td>\n",
       "      <td>2011</td>\n",
       "      <td>230.0</td>\n",
       "      <td>6.0</td>\n",
       "      <td>manual</td>\n",
       "      <td>coupe</td>\n",
       "      <td>28</td>\n",
       "      <td>18</td>\n",
       "      <td>0</td>\n",
       "    </tr>\n",
       "    <tr>\n",
       "      <th>4</th>\n",
       "      <td>bmw</td>\n",
       "      <td>1_series</td>\n",
       "      <td>2011</td>\n",
       "      <td>230.0</td>\n",
       "      <td>6.0</td>\n",
       "      <td>manual</td>\n",
       "      <td>convertible</td>\n",
       "      <td>28</td>\n",
       "      <td>18</td>\n",
       "      <td>0</td>\n",
       "    </tr>\n",
       "    <tr>\n",
       "      <th>...</th>\n",
       "      <td>...</td>\n",
       "      <td>...</td>\n",
       "      <td>...</td>\n",
       "      <td>...</td>\n",
       "      <td>...</td>\n",
       "      <td>...</td>\n",
       "      <td>...</td>\n",
       "      <td>...</td>\n",
       "      <td>...</td>\n",
       "      <td>...</td>\n",
       "    </tr>\n",
       "    <tr>\n",
       "      <th>11909</th>\n",
       "      <td>acura</td>\n",
       "      <td>zdx</td>\n",
       "      <td>2012</td>\n",
       "      <td>300.0</td>\n",
       "      <td>6.0</td>\n",
       "      <td>automatic</td>\n",
       "      <td>4dr_hatchback</td>\n",
       "      <td>23</td>\n",
       "      <td>16</td>\n",
       "      <td>1</td>\n",
       "    </tr>\n",
       "    <tr>\n",
       "      <th>11910</th>\n",
       "      <td>acura</td>\n",
       "      <td>zdx</td>\n",
       "      <td>2012</td>\n",
       "      <td>300.0</td>\n",
       "      <td>6.0</td>\n",
       "      <td>automatic</td>\n",
       "      <td>4dr_hatchback</td>\n",
       "      <td>23</td>\n",
       "      <td>16</td>\n",
       "      <td>1</td>\n",
       "    </tr>\n",
       "    <tr>\n",
       "      <th>11911</th>\n",
       "      <td>acura</td>\n",
       "      <td>zdx</td>\n",
       "      <td>2012</td>\n",
       "      <td>300.0</td>\n",
       "      <td>6.0</td>\n",
       "      <td>automatic</td>\n",
       "      <td>4dr_hatchback</td>\n",
       "      <td>23</td>\n",
       "      <td>16</td>\n",
       "      <td>1</td>\n",
       "    </tr>\n",
       "    <tr>\n",
       "      <th>11912</th>\n",
       "      <td>acura</td>\n",
       "      <td>zdx</td>\n",
       "      <td>2013</td>\n",
       "      <td>300.0</td>\n",
       "      <td>6.0</td>\n",
       "      <td>automatic</td>\n",
       "      <td>4dr_hatchback</td>\n",
       "      <td>23</td>\n",
       "      <td>16</td>\n",
       "      <td>1</td>\n",
       "    </tr>\n",
       "    <tr>\n",
       "      <th>11913</th>\n",
       "      <td>lincoln</td>\n",
       "      <td>zephyr</td>\n",
       "      <td>2006</td>\n",
       "      <td>221.0</td>\n",
       "      <td>6.0</td>\n",
       "      <td>automatic</td>\n",
       "      <td>sedan</td>\n",
       "      <td>26</td>\n",
       "      <td>17</td>\n",
       "      <td>0</td>\n",
       "    </tr>\n",
       "  </tbody>\n",
       "</table>\n",
       "<p>11914 rows × 10 columns</p>\n",
       "</div>"
      ],
      "text/plain": [
       "          make       model  year  engine_hp  engine_cylinders  \\\n",
       "0          bmw  1_series_m  2011      335.0               6.0   \n",
       "1          bmw    1_series  2011      300.0               6.0   \n",
       "2          bmw    1_series  2011      300.0               6.0   \n",
       "3          bmw    1_series  2011      230.0               6.0   \n",
       "4          bmw    1_series  2011      230.0               6.0   \n",
       "...        ...         ...   ...        ...               ...   \n",
       "11909    acura         zdx  2012      300.0               6.0   \n",
       "11910    acura         zdx  2012      300.0               6.0   \n",
       "11911    acura         zdx  2012      300.0               6.0   \n",
       "11912    acura         zdx  2013      300.0               6.0   \n",
       "11913  lincoln      zephyr  2006      221.0               6.0   \n",
       "\n",
       "      transmission_type  vehicle_style  highway_mpg  city_mpg  above_average  \n",
       "0                manual          coupe           26        19              1  \n",
       "1                manual    convertible           28        19              1  \n",
       "2                manual          coupe           28        20              0  \n",
       "3                manual          coupe           28        18              0  \n",
       "4                manual    convertible           28        18              0  \n",
       "...                 ...            ...          ...       ...            ...  \n",
       "11909         automatic  4dr_hatchback           23        16              1  \n",
       "11910         automatic  4dr_hatchback           23        16              1  \n",
       "11911         automatic  4dr_hatchback           23        16              1  \n",
       "11912         automatic  4dr_hatchback           23        16              1  \n",
       "11913         automatic          sedan           26        17              0  \n",
       "\n",
       "[11914 rows x 10 columns]"
      ]
     },
     "execution_count": 9,
     "metadata": {},
     "output_type": "execute_result"
    }
   ],
   "source": [
    "hw_df"
   ]
  },
  {
   "cell_type": "code",
   "execution_count": null,
   "id": "9788c417",
   "metadata": {},
   "outputs": [],
   "source": []
  },
  {
   "cell_type": "code",
   "execution_count": 10,
   "id": "8d044b2a",
   "metadata": {},
   "outputs": [
    {
     "name": "stdout",
     "output_type": "stream",
     "text": [
      "Training set size: 7148\n",
      "Validation set size: 2383\n",
      "Test set size: 2383\n"
     ]
    }
   ],
   "source": [
    "from sklearn.model_selection import train_test_split\n",
    "\n",
    "X = hw_df.drop('above_average', axis=1)  \n",
    "y = hw_df['above_average']  # Target variable\n",
    "\n",
    "# Split the data into training (60%), validation (20%), and test (20%) sets\n",
    "X_train, X_temp, y_train, y_temp = train_test_split(X, y, test_size=0.4, random_state=1)\n",
    "X_valid, X_test, y_valid, y_test = train_test_split(X_temp, y_temp, test_size=0.5, random_state=1)\n",
    "\n",
    "# Display the sizes of the resulting sets\n",
    "print(\"Training set size:\", X_train.shape[0])\n",
    "print(\"Validation set size:\", X_valid.shape[0])\n",
    "print(\"Test set size:\", X_test.shape[0])\n"
   ]
  },
  {
   "cell_type": "code",
   "execution_count": 11,
   "id": "93053cde",
   "metadata": {},
   "outputs": [],
   "source": [
    "from sklearn.metrics import roc_auc_score\n"
   ]
  },
  {
   "cell_type": "code",
   "execution_count": 12,
   "id": "e84df87e",
   "metadata": {},
   "outputs": [],
   "source": [
    "auc_results = pd.DataFrame(columns=['Variable', 'ROC AUC'])\n"
   ]
  },
  {
   "cell_type": "code",
   "execution_count": 13,
   "id": "140ec26e",
   "metadata": {},
   "outputs": [
    {
     "name": "stdout",
     "output_type": "stream",
     "text": [
      "           Variable   ROC AUC\n",
      "0              year  0.694302\n",
      "1         engine_hp  0.915900\n",
      "2  engine_cylinders  0.768275\n",
      "3      -highway_mpg  0.633369\n",
      "4         -city_mpg  0.672327\n"
     ]
    }
   ],
   "source": [
    "from sklearn.metrics import roc_auc_score\n",
    "import pandas as pd\n",
    "\n",
    "# Assuming you have already split your data into training, validation, and test sets\n",
    "# Using X_train and y_train for this calculation\n",
    "\n",
    "# Create lists to store the results\n",
    "variables = []\n",
    "roc_aucs = []\n",
    "\n",
    "# Loop through each numerical variable in your training data\n",
    "for column in X_train.select_dtypes(include=['number']):\n",
    "    # Calculate the ROC AUC score for the variable\n",
    "    auc = roc_auc_score(y_train, X_train[column])\n",
    "    \n",
    "    # Check if the AUC is less than 0.5\n",
    "    if auc < 0.5:\n",
    "        # If AUC is less than 0.5, invert the variable and recalculate AUC\n",
    "        inverted_auc = roc_auc_score(y_train, -X_train[column])\n",
    "        \n",
    "        # Add the variable with '-' in front and the inverted AUC to the lists\n",
    "        variables.append('-' + column)\n",
    "        roc_aucs.append(inverted_auc)\n",
    "    else:\n",
    "        # Add the variable and its AUC to the lists\n",
    "        variables.append(column)\n",
    "        roc_aucs.append(auc)\n",
    "\n",
    "# Create a DataFrame from the results\n",
    "auc_results = pd.DataFrame({'Variable': variables, 'ROC AUC': roc_aucs})\n",
    "\n",
    "# Display the results\n",
    "print(auc_results)\n"
   ]
  },
  {
   "cell_type": "code",
   "execution_count": 14,
   "id": "08b5018e",
   "metadata": {},
   "outputs": [],
   "source": [
    "data_dicts = X_train.to_dict(orient='records')\n"
   ]
  },
  {
   "cell_type": "code",
   "execution_count": 15,
   "id": "857f4b98",
   "metadata": {},
   "outputs": [],
   "source": [
    "from sklearn.feature_extraction import DictVectorizer\n"
   ]
  },
  {
   "cell_type": "code",
   "execution_count": 16,
   "id": "202cf4da",
   "metadata": {},
   "outputs": [],
   "source": [
    "vectorizer = DictVectorizer(sparse=False)\n"
   ]
  },
  {
   "cell_type": "code",
   "execution_count": 17,
   "id": "8b79b8dc",
   "metadata": {},
   "outputs": [],
   "source": [
    "X_train_encoded = vectorizer.fit_transform(data_dicts)\n"
   ]
  },
  {
   "cell_type": "code",
   "execution_count": 20,
   "id": "f49ad31b",
   "metadata": {},
   "outputs": [
    {
     "data": {
      "text/plain": [
       "array(['city_mpg', 'engine_cylinders', 'engine_hp', 'highway_mpg',\n",
       "       'make=acura', 'make=alfa_romeo', 'make=aston_martin', 'make=audi',\n",
       "       'make=bentley', 'make=bmw', 'make=bugatti', 'make=buick',\n",
       "       'make=cadillac', 'make=chevrolet', 'make=chrysler', 'make=dodge',\n",
       "       'make=ferrari', 'make=fiat', 'make=ford', 'make=genesis',\n",
       "       'make=gmc', 'make=honda', 'make=hummer', 'make=hyundai',\n",
       "       'make=infiniti', 'make=kia', 'make=lamborghini', 'make=land_rover',\n",
       "       'make=lexus', 'make=lincoln', 'make=lotus', 'make=maserati',\n",
       "       'make=maybach', 'make=mazda', 'make=mclaren', 'make=mercedes-benz',\n",
       "       'make=mitsubishi', 'make=nissan', 'make=oldsmobile',\n",
       "       'make=plymouth', 'make=pontiac', 'make=porsche',\n",
       "       'make=rolls-royce', 'make=saab', 'make=scion', 'make=spyker',\n",
       "       'make=subaru', 'make=suzuki', 'make=tesla', 'make=toyota',\n",
       "       'make=volkswagen', 'make=volvo', 'model=100', 'model=124_spider',\n",
       "       'model=190-class', 'model=1_series', 'model=1_series_m', 'model=2',\n",
       "       'model=200', 'model=200sx', 'model=240', 'model=240sx',\n",
       "       'model=2_series', 'model=3', 'model=300', 'model=300-class',\n",
       "       'model=3000gt', 'model=300m', 'model=300zx', 'model=323',\n",
       "       'model=350-class', 'model=350z', 'model=360', 'model=370z',\n",
       "       'model=3_series', 'model=3_series_gran_turismo', 'model=400-class',\n",
       "       'model=456m', 'model=458_italia', 'model=4_series',\n",
       "       'model=4_series_gran_coupe', 'model=4c', 'model=4runner',\n",
       "       'model=5', 'model=500', 'model=500-class', 'model=500e',\n",
       "       'model=500l', 'model=500x', 'model=550', 'model=560-class',\n",
       "       'model=57', 'model=575m', 'model=599', 'model=5_series',\n",
       "       'model=5_series_gran_turismo', 'model=6', 'model=600-class',\n",
       "       'model=6000', 'model=612_scaglietti', 'model=62', 'model=626',\n",
       "       'model=650s_coupe', 'model=650s_spider', 'model=6_series',\n",
       "       'model=6_series_gran_coupe', 'model=718_cayman', 'model=740',\n",
       "       'model=760', 'model=780', 'model=7_series', 'model=80',\n",
       "       'model=850', 'model=86', 'model=8_series', 'model=9-2x',\n",
       "       'model=9-3', 'model=9-3_griffin', 'model=9-4x', 'model=9-5',\n",
       "       'model=9-7x', 'model=90', 'model=900', 'model=9000', 'model=911',\n",
       "       'model=928', 'model=929', 'model=940', 'model=944', 'model=960',\n",
       "       'model=968', 'model=a3', 'model=a4', 'model=a4_allroad',\n",
       "       'model=a5', 'model=a6', 'model=a7', 'model=a8', 'model=acadia',\n",
       "       'model=acadia_limited', 'model=accent', 'model=acclaim',\n",
       "       'model=accord', 'model=accord_crosstour', 'model=accord_hybrid',\n",
       "       'model=accord_plug-in_hybrid', 'model=achieva',\n",
       "       'model=activehybrid_5', 'model=activehybrid_x6', 'model=aerio',\n",
       "       'model=aerostar', 'model=alero', 'model=allante', 'model=allroad',\n",
       "       'model=allroad_quattro', 'model=alpina',\n",
       "       'model=alpina_b6_gran_coupe', 'model=alpina_b7', 'model=altima',\n",
       "       'model=altima_hybrid', 'model=amanti', 'model=amg_gt',\n",
       "       'model=armada', 'model=arnage', 'model=aspen', 'model=aspire',\n",
       "       'model=astro', 'model=astro_cargo', 'model=ats', 'model=ats-v',\n",
       "       'model=ats_coupe', 'model=aurora', 'model=avalanche',\n",
       "       'model=avalon', 'model=avalon_hybrid', 'model=avenger',\n",
       "       'model=aventador', 'model=aveo', 'model=aviator', 'model=axxess',\n",
       "       'model=azera', 'model=aztek', 'model=azure',\n",
       "       'model=b-class_electric_drive', 'model=b-series',\n",
       "       'model=b-series_pickup', 'model=b-series_truck',\n",
       "       'model=b9_tribeca', 'model=baja', 'model=beetle',\n",
       "       'model=beetle_convertible', 'model=beretta',\n",
       "       'model=black_diamond_avalanche', 'model=blackwood', 'model=blazer',\n",
       "       'model=bolt_ev', 'model=bonneville', 'model=borrego',\n",
       "       'model=boxster', 'model=bravada', 'model=breeze', 'model=bronco',\n",
       "       'model=bronco_ii', 'model=brougham', 'model=brz', 'model=c-class',\n",
       "       'model=c-max_hybrid', 'model=c/k_1500_series',\n",
       "       'model=c/k_2500_series', 'model=c30', 'model=c36_amg',\n",
       "       'model=c43_amg', 'model=c70', 'model=c8', 'model=cabrio',\n",
       "       'model=cabriolet', 'model=cadenza', 'model=caliber',\n",
       "       'model=california', 'model=california_t', 'model=camaro',\n",
       "       'model=camry', 'model=camry_hybrid', 'model=camry_solara',\n",
       "       'model=canyon', 'model=caprice', 'model=captiva_sport',\n",
       "       'model=caravan', 'model=carrera_gt', 'model=cascada',\n",
       "       'model=catera', 'model=cavalier', 'model=cayenne', 'model=cayman',\n",
       "       'model=cayman_s', 'model=cc', 'model=celebrity', 'model=celica',\n",
       "       'model=challenger', 'model=charger', 'model=chevy_van',\n",
       "       'model=ciera', 'model=cirrus', 'model=city_express', 'model=civic',\n",
       "       'model=civic_crx', 'model=civic_del_sol', 'model=cl',\n",
       "       'model=cl-class', 'model=cla-class', 'model=clk-class',\n",
       "       'model=cls-class', 'model=cobalt', 'model=colorado', 'model=colt',\n",
       "       'model=concorde', 'model=continental',\n",
       "       'model=continental_flying_spur',\n",
       "       'model=continental_flying_spur_speed', 'model=continental_gt',\n",
       "       'model=continental_gt_speed_convertible', 'model=continental_gtc',\n",
       "       'model=continental_gtc_speed', 'model=continental_supersports',\n",
       "       'model=continental_supersports_convertible', 'model=contour',\n",
       "       'model=corniche', 'model=corolla', 'model=corolla_im',\n",
       "       'model=corrado', 'model=corsica', 'model=corvette',\n",
       "       'model=corvette_stingray', 'model=coupe', 'model=cr-v',\n",
       "       'model=cr-z', 'model=cressida', 'model=crossfire',\n",
       "       'model=crosstour', 'model=crosstrek', 'model=crown_victoria',\n",
       "       'model=cruze', 'model=cruze_limited', 'model=ct6', 'model=ct_200h',\n",
       "       'model=cts', 'model=cts-v', 'model=cts-v_coupe',\n",
       "       'model=cts-v_wagon', 'model=cts_coupe', 'model=cts_wagon',\n",
       "       'model=cube', 'model=custom_cruiser', 'model=cutlass',\n",
       "       'model=cutlass_calais', 'model=cutlass_ciera',\n",
       "       'model=cutlass_supreme', 'model=cx-3', 'model=cx-5', 'model=cx-7',\n",
       "       'model=cx-9', 'model=dakota', 'model=dart', 'model=daytona',\n",
       "       'model=db7', 'model=db9', 'model=db9_gt', 'model=dbs',\n",
       "       'model=defender', 'model=deville', 'model=diamante',\n",
       "       'model=discovery', 'model=discovery_series_ii',\n",
       "       'model=discovery_sport', 'model=dts', 'model=durango',\n",
       "       'model=dynasty', 'model=e-150', 'model=e-250', 'model=e-class',\n",
       "       'model=e-golf', 'model=e-series_van', 'model=e-series_wagon',\n",
       "       'model=e55_amg', 'model=echo', 'model=eclipse',\n",
       "       'model=eclipse_spyder', 'model=edge', 'model=eighty-eight',\n",
       "       'model=eighty-eight_royale', 'model=elantra',\n",
       "       'model=elantra_coupe', 'model=elantra_gt', 'model=elantra_touring',\n",
       "       'model=eldorado', 'model=electra', 'model=element', 'model=elise',\n",
       "       'model=enclave', 'model=encore', 'model=endeavor',\n",
       "       'model=entourage', 'model=envision', 'model=envoy',\n",
       "       'model=envoy_xl', 'model=envoy_xuv', 'model=enzo', 'model=eos',\n",
       "       'model=equator', 'model=equinox', 'model=equus', 'model=es_250',\n",
       "       'model=es_300', 'model=es_300h', 'model=es_330', 'model=es_350',\n",
       "       'model=escalade', 'model=escalade_esv', 'model=escalade_ext',\n",
       "       'model=escalade_hybrid', 'model=escape', 'model=escape_hybrid',\n",
       "       'model=escort', 'model=esprit', 'model=esteem', 'model=eurovan',\n",
       "       'model=evora', 'model=ex', 'model=ex35', 'model=excel',\n",
       "       'model=exige', 'model=expedition', 'model=explorer',\n",
       "       'model=explorer_sport', 'model=explorer_sport_trac', 'model=expo',\n",
       "       'model=express', 'model=express_cargo', 'model=f-150',\n",
       "       'model=f-150_heritage', 'model=f-150_svt_lightning', 'model=f-250',\n",
       "       'model=f12_berlinetta', 'model=f430', 'model=festiva', 'model=ff',\n",
       "       'model=fiesta', 'model=firebird', 'model=fit', 'model=fit_ev',\n",
       "       'model=five_hundred', 'model=fj_cruiser', 'model=fleetwood',\n",
       "       'model=flex', 'model=flying_spur', 'model=focus', 'model=focus_rs',\n",
       "       'model=forenza', 'model=forester', 'model=forte', 'model=fox',\n",
       "       'model=fr-s', 'model=freelander', 'model=freestar',\n",
       "       'model=freestyle', 'model=frontier', 'model=fusion',\n",
       "       'model=fusion_hybrid', 'model=fx', 'model=fx35', 'model=fx45',\n",
       "       'model=fx50', 'model=g-class', 'model=g20', 'model=g3',\n",
       "       'model=g35', 'model=g37', 'model=g37_convertible',\n",
       "       'model=g37_coupe', 'model=g37_sedan', 'model=g5', 'model=g6',\n",
       "       'model=g8', 'model=g80', 'model=g_convertible', 'model=g_coupe',\n",
       "       'model=g_sedan', 'model=galant', 'model=gallardo', 'model=genesis',\n",
       "       'model=genesis_coupe', 'model=ghibli', 'model=ghost',\n",
       "       'model=ghost_series_ii', 'model=gl-class', 'model=gla-class',\n",
       "       'model=glc-class', 'model=gle-class', 'model=gle-class_coupe',\n",
       "       'model=gli', 'model=glk-class', 'model=gls-class', 'model=golf',\n",
       "       'model=golf_alltrack', 'model=golf_gti', 'model=golf_r',\n",
       "       'model=golf_sportwagen', 'model=grand_am', 'model=grand_caravan',\n",
       "       'model=grand_prix', 'model=grand_vitara', 'model=grand_voyager',\n",
       "       'model=gransport', 'model=granturismo',\n",
       "       'model=granturismo_convertible', 'model=gs_200t', 'model=gs_300',\n",
       "       'model=gs_350', 'model=gs_400', 'model=gs_430', 'model=gs_450h',\n",
       "       'model=gs_460', 'model=gt', 'model=gt-r', 'model=gti', 'model=gto',\n",
       "       'model=gx_460', 'model=h3', 'model=h3t', 'model=hhr',\n",
       "       'model=highlander', 'model=highlander_hybrid', 'model=horizon',\n",
       "       'model=hr-v', 'model=hs_250h', 'model=huracan', 'model=i-miev',\n",
       "       'model=i3', 'model=i30', 'model=i35', 'model=ia', 'model=ilx',\n",
       "       'model=im', 'model=impala', 'model=impala_limited',\n",
       "       'model=imperial', 'model=impreza', 'model=impreza_wrx',\n",
       "       'model=insight', 'model=integra', 'model=intrepid',\n",
       "       'model=intrigue', 'model=iq', 'model=is_200t', 'model=is_250',\n",
       "       'model=is_250_c', 'model=is_300', 'model=is_350', 'model=is_350_c',\n",
       "       'model=is_f', 'model=j30', 'model=jetta', 'model=jetta_gli',\n",
       "       'model=jetta_hybrid', 'model=jetta_sportwagen', 'model=jimmy',\n",
       "       'model=journey', 'model=juke', 'model=justy', 'model=jx',\n",
       "       'model=k900', 'model=kizashi', 'model=lacrosse', 'model=lancer',\n",
       "       'model=lancer_evolution', 'model=lancer_sportback',\n",
       "       'model=land_cruiser', 'model=landaulet', 'model=laser',\n",
       "       'model=le_baron', 'model=le_mans', 'model=leaf', 'model=legacy',\n",
       "       'model=legend', 'model=lesabre', 'model=levante', 'model=lhs',\n",
       "       'model=loyale', 'model=lr2', 'model=lr3', 'model=lr4', 'model=ls',\n",
       "       'model=ls_400', 'model=ls_430', 'model=ls_460', 'model=ls_600h_l',\n",
       "       'model=lss', 'model=ltd_crown_victoria', 'model=lucerne',\n",
       "       'model=lumina', 'model=lumina_minivan', 'model=lx_470',\n",
       "       'model=lx_570', 'model=m', 'model=m-class', 'model=m2', 'model=m3',\n",
       "       'model=m30', 'model=m35', 'model=m37', 'model=m4', 'model=m45',\n",
       "       'model=m5', 'model=m56', 'model=m6', 'model=m6_gran_coupe',\n",
       "       'model=macan', 'model=magnum', 'model=malibu',\n",
       "       'model=malibu_classic', 'model=malibu_hybrid',\n",
       "       'model=malibu_limited', 'model=malibu_maxx', 'model=mark_lt',\n",
       "       'model=mark_vii', 'model=mark_viii', 'model=matrix',\n",
       "       'model=maxima', 'model=maybach', 'model=mazdaspeed_3',\n",
       "       'model=mazdaspeed_6', 'model=mazdaspeed_mx-5_miata',\n",
       "       'model=mazdaspeed_protege', 'model=mdx', 'model=metris',\n",
       "       'model=metro', 'model=mighty_max_pickup', 'model=millenia',\n",
       "       'model=mirage', 'model=mirage_g4', 'model=mkc', 'model=mks',\n",
       "       'model=mkt', 'model=mkx', 'model=mkz', 'model=model_s',\n",
       "       'model=monaco', 'model=montana', 'model=monte_carlo',\n",
       "       'model=montero', 'model=montero_sport', 'model=mp4-12c',\n",
       "       'model=mpv', 'model=mr2', 'model=mr2_spyder', 'model=mulsanne',\n",
       "       'model=murano', 'model=murano_crosscabriolet', 'model=murcielago',\n",
       "       'model=mustang', 'model=mustang_svt_cobra', 'model=mx-3',\n",
       "       'model=mx-5_miata', 'model=mx-6', 'model=navajo',\n",
       "       'model=navigator', 'model=neon', 'model=new_beetle',\n",
       "       'model=new_yorker', 'model=ninety-eight', 'model=nitro',\n",
       "       'model=nsx', 'model=nv200', 'model=nx', 'model=nx_200t',\n",
       "       'model=nx_300h', 'model=odyssey', 'model=omni', 'model=optima',\n",
       "       'model=optima_hybrid', 'model=outback', 'model=outlander',\n",
       "       'model=outlander_sport', 'model=pacifica', 'model=panamera',\n",
       "       'model=park_avenue', 'model=park_ward', 'model=paseo',\n",
       "       'model=passat', 'model=passport', 'model=pathfinder',\n",
       "       'model=phaeton', 'model=phantom', 'model=phantom_coupe',\n",
       "       'model=phantom_drophead_coupe', 'model=pickup', 'model=pilot',\n",
       "       'model=prelude', 'model=previa', 'model=prius', 'model=prius_c',\n",
       "       'model=prius_prime', 'model=prius_v', 'model=prizm', 'model=probe',\n",
       "       'model=protege', 'model=protege5', 'model=prowler',\n",
       "       'model=pt_cruiser', 'model=pulsar', 'model=q3', 'model=q40',\n",
       "       'model=q5', 'model=q50', 'model=q60_convertible',\n",
       "       'model=q60_coupe', 'model=q7', 'model=q70', 'model=quattroporte',\n",
       "       'model=quest', 'model=qx', 'model=qx4', 'model=qx50', 'model=qx56',\n",
       "       'model=qx60', 'model=qx70', 'model=qx80', 'model=r-class',\n",
       "       'model=r8', 'model=rabbit', 'model=raider', 'model=rainier',\n",
       "       'model=rally_wagon', 'model=ram_150', 'model=ram_250',\n",
       "       'model=ram_50_pickup', 'model=ram_cargo', 'model=ram_pickup_1500',\n",
       "       'model=ram_van', 'model=ram_wagon', 'model=ramcharger',\n",
       "       'model=range_rover', 'model=range_rover_evoque',\n",
       "       'model=range_rover_sport', 'model=ranger', 'model=rapide',\n",
       "       'model=rapide_s', 'model=rav4', 'model=rav4_ev',\n",
       "       'model=rav4_hybrid', 'model=rc_200t', 'model=rc_300',\n",
       "       'model=rc_350', 'model=rc_f', 'model=rdx', 'model=reatta',\n",
       "       'model=regal', 'model=regency', 'model=rendezvous', 'model=reno',\n",
       "       'model=ridgeline', 'model=rio', 'model=riviera', 'model=rl',\n",
       "       'model=rlx', 'model=roadmaster', 'model=rogue',\n",
       "       'model=rogue_select', 'model=rondo', 'model=routan', 'model=rs_4',\n",
       "       'model=rs_5', 'model=rs_7', 'model=rsx', 'model=rx-8',\n",
       "       'model=rx_300', 'model=rx_330', 'model=rx_350', 'model=rx_400h',\n",
       "       'model=rx_450h', 'model=s-10', 'model=s-10_blazer', 'model=s-15',\n",
       "       'model=s-15_jimmy', 'model=s-class', 'model=s2000', 'model=s3',\n",
       "       'model=s4', 'model=s40', 'model=s5', 'model=s6', 'model=s60',\n",
       "       'model=s60_cross_country', 'model=s7', 'model=s70', 'model=s8',\n",
       "       'model=s80', 'model=s90', 'model=safari', 'model=safari_cargo',\n",
       "       'model=samurai', 'model=santa_fe', 'model=santa_fe_sport',\n",
       "       'model=savana', 'model=savana_cargo', 'model=sc_300',\n",
       "       'model=sc_400', 'model=sc_430', 'model=scoupe', 'model=sebring',\n",
       "       'model=sedona', 'model=sentra', 'model=sephia', 'model=sequoia',\n",
       "       'model=seville', 'model=shadow', 'model=shelby_gt350',\n",
       "       'model=shelby_gt500', 'model=sidekick', 'model=sienna',\n",
       "       'model=sierra_1500', 'model=sierra_1500_classic',\n",
       "       'model=sierra_1500_hybrid', 'model=sierra_1500hd',\n",
       "       'model=sierra_c3', 'model=sierra_classic_1500', 'model=silhouette',\n",
       "       'model=silver_seraph', 'model=silverado_1500',\n",
       "       'model=silverado_1500_classic', 'model=silverado_1500_hybrid',\n",
       "       'model=sixty_special', 'model=skylark', 'model=sl-class',\n",
       "       'model=slc-class', 'model=slk-class', 'model=slr_mclaren',\n",
       "       'model=sls_amg', 'model=sls_amg_gt', 'model=slx', 'model=solstice',\n",
       "       'model=sonata', 'model=sonata_hybrid', 'model=sonic',\n",
       "       'model=sonoma', 'model=sorento', 'model=soul', 'model=soul_ev',\n",
       "       'model=spark', 'model=spark_ev', 'model=spectra', 'model=spirit',\n",
       "       'model=sportage', 'model=sportvan', 'model=spyder', 'model=sq5',\n",
       "       'model=srt_viper', 'model=srx', 'model=ss', 'model=ssr',\n",
       "       'model=stanza', 'model=stealth', 'model=stratus', 'model=sts',\n",
       "       'model=sts-v', 'model=suburban', 'model=sunbird', 'model=sundance',\n",
       "       'model=sunfire', 'model=superamerica', 'model=supra', 'model=svx',\n",
       "       'model=swift', 'model=sx4', 'model=t100', 'model=tacoma',\n",
       "       'model=tahoe', 'model=tahoe_hybrid', 'model=tahoe_limited/z71',\n",
       "       'model=taurus', 'model=taurus_x', 'model=tc', 'model=tempo',\n",
       "       'model=tercel', 'model=terrain', 'model=terraza',\n",
       "       'model=thunderbird', 'model=tiburon', 'model=tiguan',\n",
       "       'model=titan', 'model=tl', 'model=tlx', 'model=toronado',\n",
       "       'model=torrent', 'model=touareg', 'model=touareg_2',\n",
       "       'model=town_and_country', 'model=town_car', 'model=tracker',\n",
       "       'model=trailblazer', 'model=trailblazer_ext', 'model=trans_sport',\n",
       "       'model=transit_connect', 'model=transit_wagon', 'model=traverse',\n",
       "       'model=trax', 'model=tribeca', 'model=tribute',\n",
       "       'model=tribute_hybrid', 'model=truck', 'model=tsx',\n",
       "       'model=tsx_sport_wagon', 'model=tt', 'model=tt_rs', 'model=tts',\n",
       "       'model=tucson', 'model=tundra', 'model=typhoon', 'model=uplander',\n",
       "       'model=v12_vanquish', 'model=v12_vantage', 'model=v12_vantage_s',\n",
       "       'model=v40', 'model=v50', 'model=v60', 'model=v60_cross_country',\n",
       "       'model=v70', 'model=v8', 'model=v8_vantage', 'model=van',\n",
       "       'model=vanagon', 'model=vandura', 'model=vanquish',\n",
       "       'model=vanwagon', 'model=veloster', 'model=venture', 'model=venza',\n",
       "       'model=veracruz', 'model=verano', 'model=verona', 'model=versa',\n",
       "       'model=versa_note', 'model=veyron_16.4', 'model=vibe',\n",
       "       'model=vigor', 'model=viper', 'model=virage', 'model=vitara',\n",
       "       'model=voyager', 'model=windstar', 'model=windstar_cargo',\n",
       "       'model=wraith', 'model=wrx', 'model=x-90', 'model=x1', 'model=x3',\n",
       "       'model=x4', 'model=x5', 'model=x5_m', 'model=x6', 'model=x6_m',\n",
       "       'model=xa', 'model=xb', 'model=xc', 'model=xc60', 'model=xc70',\n",
       "       'model=xc90', 'model=xd', 'model=xg300', 'model=xg350',\n",
       "       'model=xl-7', 'model=xl7', 'model=xlr', 'model=xlr-v', 'model=xt',\n",
       "       'model=xt5', 'model=xterra', 'model=xts', 'model=xv_crosstrek',\n",
       "       'model=yaris', 'model=yaris_ia', 'model=yukon',\n",
       "       'model=yukon_denali', 'model=yukon_hybrid', 'model=yukon_xl',\n",
       "       'model=z3', 'model=z4', 'model=z4_m', 'model=z8', 'model=zdx',\n",
       "       'model=zephyr', 'transmission_type=automated_manual',\n",
       "       'transmission_type=automatic', 'transmission_type=direct_drive',\n",
       "       'transmission_type=manual', 'transmission_type=unknown',\n",
       "       'vehicle_style=2dr_hatchback', 'vehicle_style=2dr_suv',\n",
       "       'vehicle_style=4dr_hatchback', 'vehicle_style=4dr_suv',\n",
       "       'vehicle_style=cargo_minivan', 'vehicle_style=cargo_van',\n",
       "       'vehicle_style=convertible', 'vehicle_style=convertible_suv',\n",
       "       'vehicle_style=coupe', 'vehicle_style=crew_cab_pickup',\n",
       "       'vehicle_style=extended_cab_pickup',\n",
       "       'vehicle_style=passenger_minivan', 'vehicle_style=passenger_van',\n",
       "       'vehicle_style=regular_cab_pickup', 'vehicle_style=sedan',\n",
       "       'vehicle_style=wagon', 'year'], dtype=object)"
      ]
     },
     "execution_count": 20,
     "metadata": {},
     "output_type": "execute_result"
    }
   ],
   "source": [
    "vectorizer.get_feature_names_out()"
   ]
  },
  {
   "cell_type": "markdown",
   "id": "0a1a1961",
   "metadata": {},
   "source": [
    "dict(zip(dv.get_feature_names_out(), model.coef_[0].round(3)))"
   ]
  },
  {
   "cell_type": "markdown",
   "id": "b1c1280c",
   "metadata": {},
   "source": [
    "X_train_encoded_df = pd.DataFrame(X_train_encoded, columns=vectorizer.get_feature_names_out(input_features=features))"
   ]
  },
  {
   "cell_type": "code",
   "execution_count": 21,
   "id": "e03bae86",
   "metadata": {},
   "outputs": [
    {
     "data": {
      "text/plain": [
       "(7148, 953)"
      ]
     },
     "execution_count": 21,
     "metadata": {},
     "output_type": "execute_result"
    }
   ],
   "source": [
    "X_train_encoded.shape"
   ]
  },
  {
   "cell_type": "code",
   "execution_count": 22,
   "id": "32cd54ca",
   "metadata": {},
   "outputs": [
    {
     "data": {
      "text/plain": [
       "(7148,)"
      ]
     },
     "execution_count": 22,
     "metadata": {},
     "output_type": "execute_result"
    }
   ],
   "source": [
    "y_train.shape"
   ]
  },
  {
   "cell_type": "code",
   "execution_count": 23,
   "id": "84ae05f5",
   "metadata": {},
   "outputs": [],
   "source": [
    "from sklearn.linear_model import LogisticRegression\n"
   ]
  },
  {
   "cell_type": "code",
   "execution_count": 24,
   "id": "a7eeb5d2",
   "metadata": {},
   "outputs": [],
   "source": [
    "logistic_reg = LogisticRegression(solver='liblinear', C=1.0, max_iter=1000)\n"
   ]
  },
  {
   "cell_type": "code",
   "execution_count": 26,
   "id": "55314e88",
   "metadata": {},
   "outputs": [
    {
     "data": {
      "text/html": [
       "<style>#sk-container-id-1 {color: black;}#sk-container-id-1 pre{padding: 0;}#sk-container-id-1 div.sk-toggleable {background-color: white;}#sk-container-id-1 label.sk-toggleable__label {cursor: pointer;display: block;width: 100%;margin-bottom: 0;padding: 0.3em;box-sizing: border-box;text-align: center;}#sk-container-id-1 label.sk-toggleable__label-arrow:before {content: \"▸\";float: left;margin-right: 0.25em;color: #696969;}#sk-container-id-1 label.sk-toggleable__label-arrow:hover:before {color: black;}#sk-container-id-1 div.sk-estimator:hover label.sk-toggleable__label-arrow:before {color: black;}#sk-container-id-1 div.sk-toggleable__content {max-height: 0;max-width: 0;overflow: hidden;text-align: left;background-color: #f0f8ff;}#sk-container-id-1 div.sk-toggleable__content pre {margin: 0.2em;color: black;border-radius: 0.25em;background-color: #f0f8ff;}#sk-container-id-1 input.sk-toggleable__control:checked~div.sk-toggleable__content {max-height: 200px;max-width: 100%;overflow: auto;}#sk-container-id-1 input.sk-toggleable__control:checked~label.sk-toggleable__label-arrow:before {content: \"▾\";}#sk-container-id-1 div.sk-estimator input.sk-toggleable__control:checked~label.sk-toggleable__label {background-color: #d4ebff;}#sk-container-id-1 div.sk-label input.sk-toggleable__control:checked~label.sk-toggleable__label {background-color: #d4ebff;}#sk-container-id-1 input.sk-hidden--visually {border: 0;clip: rect(1px 1px 1px 1px);clip: rect(1px, 1px, 1px, 1px);height: 1px;margin: -1px;overflow: hidden;padding: 0;position: absolute;width: 1px;}#sk-container-id-1 div.sk-estimator {font-family: monospace;background-color: #f0f8ff;border: 1px dotted black;border-radius: 0.25em;box-sizing: border-box;margin-bottom: 0.5em;}#sk-container-id-1 div.sk-estimator:hover {background-color: #d4ebff;}#sk-container-id-1 div.sk-parallel-item::after {content: \"\";width: 100%;border-bottom: 1px solid gray;flex-grow: 1;}#sk-container-id-1 div.sk-label:hover label.sk-toggleable__label {background-color: #d4ebff;}#sk-container-id-1 div.sk-serial::before {content: \"\";position: absolute;border-left: 1px solid gray;box-sizing: border-box;top: 0;bottom: 0;left: 50%;z-index: 0;}#sk-container-id-1 div.sk-serial {display: flex;flex-direction: column;align-items: center;background-color: white;padding-right: 0.2em;padding-left: 0.2em;position: relative;}#sk-container-id-1 div.sk-item {position: relative;z-index: 1;}#sk-container-id-1 div.sk-parallel {display: flex;align-items: stretch;justify-content: center;background-color: white;position: relative;}#sk-container-id-1 div.sk-item::before, #sk-container-id-1 div.sk-parallel-item::before {content: \"\";position: absolute;border-left: 1px solid gray;box-sizing: border-box;top: 0;bottom: 0;left: 50%;z-index: -1;}#sk-container-id-1 div.sk-parallel-item {display: flex;flex-direction: column;z-index: 1;position: relative;background-color: white;}#sk-container-id-1 div.sk-parallel-item:first-child::after {align-self: flex-end;width: 50%;}#sk-container-id-1 div.sk-parallel-item:last-child::after {align-self: flex-start;width: 50%;}#sk-container-id-1 div.sk-parallel-item:only-child::after {width: 0;}#sk-container-id-1 div.sk-dashed-wrapped {border: 1px dashed gray;margin: 0 0.4em 0.5em 0.4em;box-sizing: border-box;padding-bottom: 0.4em;background-color: white;}#sk-container-id-1 div.sk-label label {font-family: monospace;font-weight: bold;display: inline-block;line-height: 1.2em;}#sk-container-id-1 div.sk-label-container {text-align: center;}#sk-container-id-1 div.sk-container {/* jupyter's `normalize.less` sets `[hidden] { display: none; }` but bootstrap.min.css set `[hidden] { display: none !important; }` so we also need the `!important` here to be able to override the default hidden behavior on the sphinx rendered scikit-learn.org. See: https://github.com/scikit-learn/scikit-learn/issues/21755 */display: inline-block !important;position: relative;}#sk-container-id-1 div.sk-text-repr-fallback {display: none;}</style><div id=\"sk-container-id-1\" class=\"sk-top-container\"><div class=\"sk-text-repr-fallback\"><pre>LogisticRegression(max_iter=1000, solver=&#x27;liblinear&#x27;)</pre><b>In a Jupyter environment, please rerun this cell to show the HTML representation or trust the notebook. <br />On GitHub, the HTML representation is unable to render, please try loading this page with nbviewer.org.</b></div><div class=\"sk-container\" hidden><div class=\"sk-item\"><div class=\"sk-estimator sk-toggleable\"><input class=\"sk-toggleable__control sk-hidden--visually\" id=\"sk-estimator-id-1\" type=\"checkbox\" checked><label for=\"sk-estimator-id-1\" class=\"sk-toggleable__label sk-toggleable__label-arrow\">LogisticRegression</label><div class=\"sk-toggleable__content\"><pre>LogisticRegression(max_iter=1000, solver=&#x27;liblinear&#x27;)</pre></div></div></div></div></div>"
      ],
      "text/plain": [
       "LogisticRegression(max_iter=1000, solver='liblinear')"
      ]
     },
     "execution_count": 26,
     "metadata": {},
     "output_type": "execute_result"
    }
   ],
   "source": [
    "logistic_reg.fit(X_train_encoded, y_train)\n"
   ]
  },
  {
   "cell_type": "code",
   "execution_count": 29,
   "id": "668ac694",
   "metadata": {},
   "outputs": [
    {
     "name": "stdout",
     "output_type": "stream",
     "text": [
      "AUC on Validation Dataset: 0.97998\n"
     ]
    }
   ],
   "source": [
    "data_dicts_valid = X_valid.to_dict(orient='records')\n",
    "X_valid_encoded = vectorizer.transform(data_dicts_valid)\n",
    "y_valid_pred_proba = logistic_reg.predict_proba(X_valid_encoded)[:, 1]\n",
    "auc_valid = roc_auc_score(y_valid, y_valid_pred_proba)\n",
    "print(\"AUC on Validation Dataset:\", np.round(auc_valid,5))\n"
   ]
  },
  {
   "cell_type": "code",
   "execution_count": null,
   "id": "c44fcb0e",
   "metadata": {},
   "outputs": [],
   "source": []
  },
  {
   "cell_type": "code",
   "execution_count": null,
   "id": "6becf501",
   "metadata": {},
   "outputs": [],
   "source": []
  },
  {
   "cell_type": "code",
   "execution_count": null,
   "id": "084a5da7",
   "metadata": {},
   "outputs": [],
   "source": []
  },
  {
   "cell_type": "code",
   "execution_count": null,
   "id": "e4512a5a",
   "metadata": {},
   "outputs": [],
   "source": []
  },
  {
   "cell_type": "code",
   "execution_count": null,
   "id": "ee3cc40c",
   "metadata": {},
   "outputs": [],
   "source": []
  },
  {
   "cell_type": "code",
   "execution_count": null,
   "id": "b39a04b7",
   "metadata": {},
   "outputs": [],
   "source": []
  },
  {
   "cell_type": "code",
   "execution_count": null,
   "id": "507c2deb",
   "metadata": {},
   "outputs": [],
   "source": []
  },
  {
   "cell_type": "code",
   "execution_count": null,
   "id": "f39bcfd2",
   "metadata": {},
   "outputs": [],
   "source": []
  },
  {
   "cell_type": "code",
   "execution_count": null,
   "id": "d45c2661",
   "metadata": {},
   "outputs": [],
   "source": []
  },
  {
   "cell_type": "code",
   "execution_count": null,
   "id": "6286702d",
   "metadata": {},
   "outputs": [],
   "source": []
  },
  {
   "cell_type": "code",
   "execution_count": null,
   "id": "892dd60f",
   "metadata": {},
   "outputs": [],
   "source": []
  },
  {
   "cell_type": "code",
   "execution_count": null,
   "id": "ed7b2ef1",
   "metadata": {},
   "outputs": [],
   "source": []
  },
  {
   "cell_type": "code",
   "execution_count": null,
   "id": "80a945b2",
   "metadata": {},
   "outputs": [],
   "source": []
  },
  {
   "cell_type": "code",
   "execution_count": null,
   "id": "cb3ed7f5",
   "metadata": {},
   "outputs": [],
   "source": []
  },
  {
   "cell_type": "code",
   "execution_count": null,
   "id": "d63d31d7",
   "metadata": {},
   "outputs": [],
   "source": []
  },
  {
   "cell_type": "code",
   "execution_count": null,
   "id": "0f44d2ea",
   "metadata": {},
   "outputs": [],
   "source": []
  },
  {
   "cell_type": "code",
   "execution_count": null,
   "id": "e7d60f7b",
   "metadata": {},
   "outputs": [],
   "source": []
  },
  {
   "cell_type": "code",
   "execution_count": null,
   "id": "38ba0deb",
   "metadata": {},
   "outputs": [],
   "source": []
  },
  {
   "cell_type": "code",
   "execution_count": 31,
   "id": "fd80fd70",
   "metadata": {},
   "outputs": [],
   "source": [
    "from sklearn.metrics import precision_score, recall_score\n",
    "\n",
    "# Initialize empty lists to store precision and recall values\n",
    "precision_values = []\n",
    "recall_values = []\n",
    "\n",
    "# Define a range of thresholds from 0.0 to 1.0 with step 0.01\n",
    "thresholds = np.arange(0.0, 1.01, 0.01)\n",
    "\n",
    "# Iterate through each threshold\n",
    "for threshold in thresholds:\n",
    "    # Predict binary labels based on the threshold\n",
    "    y_valid_pred_binary = (y_valid_pred_proba >= threshold).astype(int)\n",
    "    \n",
    "    # Calculate precision and recall for the current threshold\n",
    "    precision = precision_score(y_valid, y_valid_pred_binary, zero_division=1)\n",
    "    recall = recall_score(y_valid, y_valid_pred_binary)\n",
    "    \n",
    "    # Append precision and recall values to the lists\n",
    "    precision_values.append(precision)\n",
    "    recall_values.append(recall)\n"
   ]
  },
  {
   "cell_type": "code",
   "execution_count": 32,
   "id": "533ea3e0",
   "metadata": {},
   "outputs": [],
   "source": [
    "intersection_threshold = thresholds[np.argwhere(np.diff(np.sign(np.array(precision_values) - np.array(recall_values))))[0][0]]\n"
   ]
  },
  {
   "cell_type": "code",
   "execution_count": 33,
   "id": "774c8974",
   "metadata": {},
   "outputs": [
    {
     "data": {
      "text/plain": [
       "0.46"
      ]
     },
     "execution_count": 33,
     "metadata": {},
     "output_type": "execute_result"
    }
   ],
   "source": [
    "intersection_threshold"
   ]
  },
  {
   "cell_type": "code",
   "execution_count": null,
   "id": "07315cb6",
   "metadata": {},
   "outputs": [],
   "source": []
  },
  {
   "cell_type": "code",
   "execution_count": null,
   "id": "7e5a92e3",
   "metadata": {},
   "outputs": [],
   "source": []
  },
  {
   "cell_type": "code",
   "execution_count": null,
   "id": "c02d6867",
   "metadata": {},
   "outputs": [],
   "source": []
  },
  {
   "cell_type": "code",
   "execution_count": null,
   "id": "76207f87",
   "metadata": {},
   "outputs": [],
   "source": []
  },
  {
   "cell_type": "code",
   "execution_count": null,
   "id": "446afd1d",
   "metadata": {},
   "outputs": [],
   "source": []
  },
  {
   "cell_type": "code",
   "execution_count": null,
   "id": "4da51d67",
   "metadata": {},
   "outputs": [],
   "source": []
  },
  {
   "cell_type": "code",
   "execution_count": null,
   "id": "2a1041f6",
   "metadata": {},
   "outputs": [],
   "source": []
  },
  {
   "cell_type": "code",
   "execution_count": null,
   "id": "38c77ea3",
   "metadata": {},
   "outputs": [],
   "source": []
  },
  {
   "cell_type": "code",
   "execution_count": null,
   "id": "161362f1",
   "metadata": {},
   "outputs": [],
   "source": [
    "# Create a precision-recall curve\n",
    "plt.figure(figsize=(8, 6))\n",
    "plt.plot(recall_values, precision_values, marker='o', linestyle='-')\n",
    "plt.xlabel('Recall')\n",
    "plt.ylabel('Precision')\n",
    "plt.title('Precision-Recall Curve')\n",
    "plt.grid(True)\n",
    "plt.show()\n"
   ]
  }
 ],
 "metadata": {
  "kernelspec": {
   "display_name": "Python 3 (ipykernel)",
   "language": "python",
   "name": "python3"
  },
  "language_info": {
   "codemirror_mode": {
    "name": "ipython",
    "version": 3
   },
   "file_extension": ".py",
   "mimetype": "text/x-python",
   "name": "python",
   "nbconvert_exporter": "python",
   "pygments_lexer": "ipython3",
   "version": "3.9.17"
  }
 },
 "nbformat": 4,
 "nbformat_minor": 5
}
