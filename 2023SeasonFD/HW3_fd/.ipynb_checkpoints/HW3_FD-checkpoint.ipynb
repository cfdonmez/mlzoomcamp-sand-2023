{
 "cells": [
  {
   "cell_type": "code",
   "execution_count": 1,
   "id": "572b693b",
   "metadata": {},
   "outputs": [],
   "source": [
    "import numpy as np\n",
    "import pandas as pd\n",
    "%matplotlib inline\n",
    "import matplotlib.pyplot as plt\n",
    "import seaborn as sns"
   ]
  },
  {
   "cell_type": "code",
   "execution_count": 2,
   "id": "77646250",
   "metadata": {},
   "outputs": [],
   "source": [
    "df = pd.read_csv(r'https://raw.githubusercontent.com/alexeygrigorev/mlbookcamp-code/master/chapter-02-car-price/data.csv')\n"
   ]
  },
  {
   "cell_type": "code",
   "execution_count": 3,
   "id": "a14fed13",
   "metadata": {},
   "outputs": [
    {
     "data": {
      "text/html": [
       "<div>\n",
       "<style scoped>\n",
       "    .dataframe tbody tr th:only-of-type {\n",
       "        vertical-align: middle;\n",
       "    }\n",
       "\n",
       "    .dataframe tbody tr th {\n",
       "        vertical-align: top;\n",
       "    }\n",
       "\n",
       "    .dataframe thead th {\n",
       "        text-align: right;\n",
       "    }\n",
       "</style>\n",
       "<table border=\"1\" class=\"dataframe\">\n",
       "  <thead>\n",
       "    <tr style=\"text-align: right;\">\n",
       "      <th></th>\n",
       "      <th>Make</th>\n",
       "      <th>Model</th>\n",
       "      <th>Year</th>\n",
       "      <th>Engine Fuel Type</th>\n",
       "      <th>Engine HP</th>\n",
       "      <th>Engine Cylinders</th>\n",
       "      <th>Transmission Type</th>\n",
       "      <th>Driven_Wheels</th>\n",
       "      <th>Number of Doors</th>\n",
       "      <th>Market Category</th>\n",
       "      <th>Vehicle Size</th>\n",
       "      <th>Vehicle Style</th>\n",
       "      <th>highway MPG</th>\n",
       "      <th>city mpg</th>\n",
       "      <th>Popularity</th>\n",
       "      <th>MSRP</th>\n",
       "    </tr>\n",
       "  </thead>\n",
       "  <tbody>\n",
       "    <tr>\n",
       "      <th>0</th>\n",
       "      <td>BMW</td>\n",
       "      <td>1 Series M</td>\n",
       "      <td>2011</td>\n",
       "      <td>premium unleaded (required)</td>\n",
       "      <td>335.0</td>\n",
       "      <td>6.0</td>\n",
       "      <td>MANUAL</td>\n",
       "      <td>rear wheel drive</td>\n",
       "      <td>2.0</td>\n",
       "      <td>Factory Tuner,Luxury,High-Performance</td>\n",
       "      <td>Compact</td>\n",
       "      <td>Coupe</td>\n",
       "      <td>26</td>\n",
       "      <td>19</td>\n",
       "      <td>3916</td>\n",
       "      <td>46135</td>\n",
       "    </tr>\n",
       "    <tr>\n",
       "      <th>1</th>\n",
       "      <td>BMW</td>\n",
       "      <td>1 Series</td>\n",
       "      <td>2011</td>\n",
       "      <td>premium unleaded (required)</td>\n",
       "      <td>300.0</td>\n",
       "      <td>6.0</td>\n",
       "      <td>MANUAL</td>\n",
       "      <td>rear wheel drive</td>\n",
       "      <td>2.0</td>\n",
       "      <td>Luxury,Performance</td>\n",
       "      <td>Compact</td>\n",
       "      <td>Convertible</td>\n",
       "      <td>28</td>\n",
       "      <td>19</td>\n",
       "      <td>3916</td>\n",
       "      <td>40650</td>\n",
       "    </tr>\n",
       "    <tr>\n",
       "      <th>2</th>\n",
       "      <td>BMW</td>\n",
       "      <td>1 Series</td>\n",
       "      <td>2011</td>\n",
       "      <td>premium unleaded (required)</td>\n",
       "      <td>300.0</td>\n",
       "      <td>6.0</td>\n",
       "      <td>MANUAL</td>\n",
       "      <td>rear wheel drive</td>\n",
       "      <td>2.0</td>\n",
       "      <td>Luxury,High-Performance</td>\n",
       "      <td>Compact</td>\n",
       "      <td>Coupe</td>\n",
       "      <td>28</td>\n",
       "      <td>20</td>\n",
       "      <td>3916</td>\n",
       "      <td>36350</td>\n",
       "    </tr>\n",
       "    <tr>\n",
       "      <th>3</th>\n",
       "      <td>BMW</td>\n",
       "      <td>1 Series</td>\n",
       "      <td>2011</td>\n",
       "      <td>premium unleaded (required)</td>\n",
       "      <td>230.0</td>\n",
       "      <td>6.0</td>\n",
       "      <td>MANUAL</td>\n",
       "      <td>rear wheel drive</td>\n",
       "      <td>2.0</td>\n",
       "      <td>Luxury,Performance</td>\n",
       "      <td>Compact</td>\n",
       "      <td>Coupe</td>\n",
       "      <td>28</td>\n",
       "      <td>18</td>\n",
       "      <td>3916</td>\n",
       "      <td>29450</td>\n",
       "    </tr>\n",
       "    <tr>\n",
       "      <th>4</th>\n",
       "      <td>BMW</td>\n",
       "      <td>1 Series</td>\n",
       "      <td>2011</td>\n",
       "      <td>premium unleaded (required)</td>\n",
       "      <td>230.0</td>\n",
       "      <td>6.0</td>\n",
       "      <td>MANUAL</td>\n",
       "      <td>rear wheel drive</td>\n",
       "      <td>2.0</td>\n",
       "      <td>Luxury</td>\n",
       "      <td>Compact</td>\n",
       "      <td>Convertible</td>\n",
       "      <td>28</td>\n",
       "      <td>18</td>\n",
       "      <td>3916</td>\n",
       "      <td>34500</td>\n",
       "    </tr>\n",
       "  </tbody>\n",
       "</table>\n",
       "</div>"
      ],
      "text/plain": [
       "  Make       Model  Year             Engine Fuel Type  Engine HP  \\\n",
       "0  BMW  1 Series M  2011  premium unleaded (required)      335.0   \n",
       "1  BMW    1 Series  2011  premium unleaded (required)      300.0   \n",
       "2  BMW    1 Series  2011  premium unleaded (required)      300.0   \n",
       "3  BMW    1 Series  2011  premium unleaded (required)      230.0   \n",
       "4  BMW    1 Series  2011  premium unleaded (required)      230.0   \n",
       "\n",
       "   Engine Cylinders Transmission Type     Driven_Wheels  Number of Doors  \\\n",
       "0               6.0            MANUAL  rear wheel drive              2.0   \n",
       "1               6.0            MANUAL  rear wheel drive              2.0   \n",
       "2               6.0            MANUAL  rear wheel drive              2.0   \n",
       "3               6.0            MANUAL  rear wheel drive              2.0   \n",
       "4               6.0            MANUAL  rear wheel drive              2.0   \n",
       "\n",
       "                         Market Category Vehicle Size Vehicle Style  \\\n",
       "0  Factory Tuner,Luxury,High-Performance      Compact         Coupe   \n",
       "1                     Luxury,Performance      Compact   Convertible   \n",
       "2                Luxury,High-Performance      Compact         Coupe   \n",
       "3                     Luxury,Performance      Compact         Coupe   \n",
       "4                                 Luxury      Compact   Convertible   \n",
       "\n",
       "   highway MPG  city mpg  Popularity   MSRP  \n",
       "0           26        19        3916  46135  \n",
       "1           28        19        3916  40650  \n",
       "2           28        20        3916  36350  \n",
       "3           28        18        3916  29450  \n",
       "4           28        18        3916  34500  "
      ]
     },
     "execution_count": 3,
     "metadata": {},
     "output_type": "execute_result"
    }
   ],
   "source": [
    "df.head()"
   ]
  },
  {
   "cell_type": "markdown",
   "id": "150fe466",
   "metadata": {},
   "source": [
    "## Beginning of HW"
   ]
  },
  {
   "cell_type": "code",
   "execution_count": null,
   "id": "698a8a67",
   "metadata": {},
   "outputs": [],
   "source": []
  },
  {
   "cell_type": "code",
   "execution_count": null,
   "id": "4c8be5d2",
   "metadata": {},
   "outputs": [],
   "source": []
  },
  {
   "cell_type": "code",
   "execution_count": 4,
   "id": "2931e1c8",
   "metadata": {},
   "outputs": [
    {
     "data": {
      "text/plain": [
       "Index(['make', 'model', 'year', 'engine_fuel_type', 'engine_hp',\n",
       "       'engine_cylinders', 'transmission_type', 'driven_wheels',\n",
       "       'number_of_doors', 'market_category', 'vehicle_size', 'vehicle_style',\n",
       "       'highway_mpg', 'city_mpg', 'popularity', 'msrp'],\n",
       "      dtype='object')"
      ]
     },
     "execution_count": 4,
     "metadata": {},
     "output_type": "execute_result"
    }
   ],
   "source": [
    "df.columns = df.columns.str.replace(' ', '_').str.lower()\n",
    "df.columns"
   ]
  },
  {
   "cell_type": "code",
   "execution_count": 5,
   "id": "ff65a6b6",
   "metadata": {},
   "outputs": [],
   "source": [
    "features = ['make', 'model', 'year', 'engine_hp','engine_cylinders', 'transmission_type', 'vehicle_style','highway_mpg', 'city_mpg']"
   ]
  },
  {
   "cell_type": "code",
   "execution_count": 6,
   "id": "644c8f23",
   "metadata": {},
   "outputs": [],
   "source": [
    "string = list(df.dtypes[df.dtypes == 'object'].index)\n"
   ]
  },
  {
   "cell_type": "code",
   "execution_count": 7,
   "id": "94c51aae",
   "metadata": {},
   "outputs": [],
   "source": [
    "for col in string:\n",
    "    df[col]= df[col].str.lower().str.replace(\" \", \"_\")\n"
   ]
  },
  {
   "cell_type": "markdown",
   "id": "e0bda8f3",
   "metadata": {},
   "source": [
    "All data are a little tuned"
   ]
  },
  {
   "cell_type": "code",
   "execution_count": 8,
   "id": "80e107a5",
   "metadata": {},
   "outputs": [
    {
     "data": {
      "text/plain": [
       "make                  object\n",
       "model                 object\n",
       "year                   int64\n",
       "engine_hp            float64\n",
       "engine_cylinders     float64\n",
       "transmission_type     object\n",
       "vehicle_style         object\n",
       "highway_mpg            int64\n",
       "city_mpg               int64\n",
       "dtype: object"
      ]
     },
     "execution_count": 8,
     "metadata": {},
     "output_type": "execute_result"
    }
   ],
   "source": [
    "df[features].dtypes"
   ]
  },
  {
   "cell_type": "code",
   "execution_count": 9,
   "id": "e0ae83eb",
   "metadata": {},
   "outputs": [],
   "source": [
    "df[features].isnull().sum()\n",
    "df[features] = df[features].fillna(0)"
   ]
  },
  {
   "cell_type": "code",
   "execution_count": 10,
   "id": "c29f447f",
   "metadata": {},
   "outputs": [
    {
     "data": {
      "text/plain": [
       "make                 0\n",
       "model                0\n",
       "year                 0\n",
       "engine_hp            0\n",
       "engine_cylinders     0\n",
       "transmission_type    0\n",
       "vehicle_style        0\n",
       "highway_mpg          0\n",
       "city_mpg             0\n",
       "dtype: int64"
      ]
     },
     "execution_count": 10,
     "metadata": {},
     "output_type": "execute_result"
    }
   ],
   "source": [
    "df[features].isnull().sum()"
   ]
  },
  {
   "cell_type": "code",
   "execution_count": 11,
   "id": "db3a7b50",
   "metadata": {},
   "outputs": [],
   "source": [
    "df.rename(columns={'msrp': 'price'}, inplace=True)\n"
   ]
  },
  {
   "cell_type": "code",
   "execution_count": 12,
   "id": "b8d1d465",
   "metadata": {},
   "outputs": [],
   "source": [
    "select_df = df[features]"
   ]
  },
  {
   "cell_type": "markdown",
   "id": "2330bf79",
   "metadata": {},
   "source": [
    "## Question 1 \n",
    "What is the most frequent observation (mode) for the column transmission_type?\n",
    "\n"
   ]
  },
  {
   "cell_type": "code",
   "execution_count": 13,
   "id": "0bd8f4e2",
   "metadata": {},
   "outputs": [
    {
     "data": {
      "text/plain": [
       "0    automatic\n",
       "Name: transmission_type, dtype: object"
      ]
     },
     "execution_count": 13,
     "metadata": {},
     "output_type": "execute_result"
    }
   ],
   "source": [
    "select_df['transmission_type'].mode()"
   ]
  },
  {
   "cell_type": "markdown",
   "id": "547238ad",
   "metadata": {},
   "source": [
    "### Answer 1: automatic"
   ]
  },
  {
   "cell_type": "markdown",
   "id": "76894694",
   "metadata": {},
   "source": [
    "## Question 2\n",
    "Create the correlation matrix for the numerical features of your dataset. In a correlation matrix, you compute the correlation coefficient between every pair of features in the dataset.\n",
    "\n",
    "What are the two features that have the biggest correlation in this dataset?"
   ]
  },
  {
   "cell_type": "code",
   "execution_count": 14,
   "id": "87738f8a",
   "metadata": {},
   "outputs": [
    {
     "data": {
      "text/plain": [
       "Index(['make', 'model', 'year', 'engine_hp', 'engine_cylinders',\n",
       "       'transmission_type', 'vehicle_style', 'highway_mpg', 'city_mpg'],\n",
       "      dtype='object')"
      ]
     },
     "execution_count": 14,
     "metadata": {},
     "output_type": "execute_result"
    }
   ],
   "source": [
    "select_df.columns"
   ]
  },
  {
   "cell_type": "code",
   "execution_count": 15,
   "id": "f39ea940",
   "metadata": {},
   "outputs": [
    {
     "data": {
      "text/plain": [
       "make                  object\n",
       "model                 object\n",
       "year                   int64\n",
       "engine_hp            float64\n",
       "engine_cylinders     float64\n",
       "transmission_type     object\n",
       "vehicle_style         object\n",
       "highway_mpg            int64\n",
       "city_mpg               int64\n",
       "dtype: object"
      ]
     },
     "execution_count": 15,
     "metadata": {},
     "output_type": "execute_result"
    }
   ],
   "source": [
    "select_df.dtypes"
   ]
  },
  {
   "cell_type": "code",
   "execution_count": 16,
   "id": "43795dd2",
   "metadata": {},
   "outputs": [],
   "source": [
    "numeric_part = ['year', 'engine_hp', 'engine_cylinders', 'highway_mpg', 'city_mpg']"
   ]
  },
  {
   "cell_type": "code",
   "execution_count": 17,
   "id": "8dddedbb",
   "metadata": {},
   "outputs": [
    {
     "data": {
      "text/plain": [
       "year                0.227590\n",
       "engine_hp           0.650095\n",
       "engine_cylinders    0.526274\n",
       "highway_mpg        -0.160043\n",
       "city_mpg           -0.157676\n",
       "dtype: float64"
      ]
     },
     "execution_count": 17,
     "metadata": {},
     "output_type": "execute_result"
    }
   ],
   "source": [
    "select_df[numeric_part].corrwith(df['price'])"
   ]
  },
  {
   "cell_type": "markdown",
   "id": "68db75f7",
   "metadata": {},
   "source": [
    "## Answers 2 : engine_hp and engine_cylinders"
   ]
  },
  {
   "cell_type": "code",
   "execution_count": 18,
   "id": "53ea6f36",
   "metadata": {},
   "outputs": [
    {
     "data": {
      "text/plain": [
       "40594.737032063116"
      ]
     },
     "execution_count": 18,
     "metadata": {},
     "output_type": "execute_result"
    }
   ],
   "source": [
    "df['price'].mean()"
   ]
  },
  {
   "cell_type": "code",
   "execution_count": 19,
   "id": "142fd900",
   "metadata": {},
   "outputs": [],
   "source": [
    "above_average1 = df['price'] > df['price'].mean()"
   ]
  },
  {
   "cell_type": "code",
   "execution_count": 20,
   "id": "70fcfd7d",
   "metadata": {},
   "outputs": [
    {
     "data": {
      "text/plain": [
       "0         True\n",
       "1         True\n",
       "2        False\n",
       "3        False\n",
       "4        False\n",
       "         ...  \n",
       "11909     True\n",
       "11910     True\n",
       "11911     True\n",
       "11912     True\n",
       "11913    False\n",
       "Name: price, Length: 11914, dtype: bool"
      ]
     },
     "execution_count": 20,
     "metadata": {},
     "output_type": "execute_result"
    }
   ],
   "source": [
    "above_average1"
   ]
  },
  {
   "cell_type": "code",
   "execution_count": 21,
   "id": "9eabe15d",
   "metadata": {},
   "outputs": [
    {
     "name": "stderr",
     "output_type": "stream",
     "text": [
      "C:\\Users\\WORK\\AppData\\Local\\Temp\\ipykernel_9256\\756904717.py:1: SettingWithCopyWarning: \n",
      "A value is trying to be set on a copy of a slice from a DataFrame.\n",
      "Try using .loc[row_indexer,col_indexer] = value instead\n",
      "\n",
      "See the caveats in the documentation: https://pandas.pydata.org/pandas-docs/stable/user_guide/indexing.html#returning-a-view-versus-a-copy\n",
      "  select_df['above_average'] = above_average1\n"
     ]
    }
   ],
   "source": [
    "select_df['above_average'] = above_average1"
   ]
  },
  {
   "cell_type": "markdown",
   "id": "43fc1bc8",
   "metadata": {},
   "source": [
    "## Question 3\n",
    "\n",
    "Calculate the mutual information score between above_average and other categorical variables in our dataset. Use the training set only.\n",
    "Round the scores to 2 decimals using round(score, 2).\n",
    "Which of these variables has the lowest mutual information score?\n"
   ]
  },
  {
   "cell_type": "code",
   "execution_count": 22,
   "id": "62a5f541",
   "metadata": {},
   "outputs": [],
   "source": [
    "from sklearn.model_selection import train_test_split"
   ]
  },
  {
   "cell_type": "code",
   "execution_count": 23,
   "id": "11294fa6",
   "metadata": {},
   "outputs": [],
   "source": [
    "df_train, df_test = train_test_split(select_df, test_size= 0.4, random_state=42)"
   ]
  },
  {
   "cell_type": "code",
   "execution_count": 24,
   "id": "c383822d",
   "metadata": {},
   "outputs": [],
   "source": [
    "df_val, df_test = train_test_split(df_test, test_size=0.5, random_state=42)"
   ]
  },
  {
   "cell_type": "code",
   "execution_count": 25,
   "id": "efe54232",
   "metadata": {},
   "outputs": [
    {
     "data": {
      "text/plain": [
       "(7148, 2383, 2383)"
      ]
     },
     "execution_count": 25,
     "metadata": {},
     "output_type": "execute_result"
    }
   ],
   "source": [
    "len(df_train), len(df_test), len(df_val)"
   ]
  },
  {
   "cell_type": "code",
   "execution_count": 26,
   "id": "eb10c153",
   "metadata": {},
   "outputs": [],
   "source": [
    "y_train = df_train['above_average']\n",
    "y_val = df_val['above_average']\n",
    "y_test = df_test['above_average']\n",
    "\n",
    "del df_train['above_average']\n",
    "del df_val['above_average']\n",
    "del df_test['above_average']"
   ]
  },
  {
   "cell_type": "code",
   "execution_count": 27,
   "id": "52ca8f4a",
   "metadata": {},
   "outputs": [],
   "source": [
    "categoric_part = ['make', 'model', 'transmission_type', 'vehicle_style']"
   ]
  },
  {
   "cell_type": "code",
   "execution_count": 28,
   "id": "619f9af0",
   "metadata": {},
   "outputs": [],
   "source": [
    "from sklearn.metrics import mutual_info_score"
   ]
  },
  {
   "cell_type": "code",
   "execution_count": 29,
   "id": "f26df27f",
   "metadata": {},
   "outputs": [],
   "source": [
    "def calculate_mi (series):\n",
    "    return np.round(mutual_info_score(series,y_train),2)\n"
   ]
  },
  {
   "cell_type": "code",
   "execution_count": 30,
   "id": "fd789a47",
   "metadata": {},
   "outputs": [
    {
     "data": {
      "text/html": [
       "<div>\n",
       "<style scoped>\n",
       "    .dataframe tbody tr th:only-of-type {\n",
       "        vertical-align: middle;\n",
       "    }\n",
       "\n",
       "    .dataframe tbody tr th {\n",
       "        vertical-align: top;\n",
       "    }\n",
       "\n",
       "    .dataframe thead th {\n",
       "        text-align: right;\n",
       "    }\n",
       "</style>\n",
       "<table border=\"1\" class=\"dataframe\">\n",
       "  <thead>\n",
       "    <tr style=\"text-align: right;\">\n",
       "      <th></th>\n",
       "      <th>MI</th>\n",
       "    </tr>\n",
       "  </thead>\n",
       "  <tbody>\n",
       "    <tr>\n",
       "      <th>model</th>\n",
       "      <td>0.46</td>\n",
       "    </tr>\n",
       "    <tr>\n",
       "      <th>make</th>\n",
       "      <td>0.24</td>\n",
       "    </tr>\n",
       "    <tr>\n",
       "      <th>vehicle_style</th>\n",
       "      <td>0.08</td>\n",
       "    </tr>\n",
       "    <tr>\n",
       "      <th>transmission_type</th>\n",
       "      <td>0.02</td>\n",
       "    </tr>\n",
       "  </tbody>\n",
       "</table>\n",
       "</div>"
      ],
      "text/plain": [
       "                     MI\n",
       "model              0.46\n",
       "make               0.24\n",
       "vehicle_style      0.08\n",
       "transmission_type  0.02"
      ]
     },
     "execution_count": 30,
     "metadata": {},
     "output_type": "execute_result"
    }
   ],
   "source": [
    "df_mi = df_train[categoric_part].apply(calculate_mi)\n",
    "df_mi = df_mi.sort_values(ascending=False).to_frame(name= 'MI')\n",
    "df_mi"
   ]
  },
  {
   "cell_type": "markdown",
   "id": "d4afef13",
   "metadata": {},
   "source": [
    "## Answer 3 = Transmission"
   ]
  },
  {
   "cell_type": "markdown",
   "id": "65f84fac",
   "metadata": {},
   "source": [
    "## Question 4\n",
    "Now let's train a logistic regression.\n",
    "Remember that we have several categorical variables in the dataset. Include them using one-hot encoding.\n",
    "Fit the model on the training dataset.\n",
    "To make sure the results are reproducible across different versions of Scikit-Learn, fit the model with these parameters:\n",
    "model = LogisticRegression(solver='liblinear', C=10, max_iter=1000, random_state=42)\n",
    "Calculate the accuracy on the validation dataset and round it to 2 decimal digits.\n",
    "What accuracy did you get?"
   ]
  },
  {
   "cell_type": "code",
   "execution_count": 31,
   "id": "33ae0020",
   "metadata": {},
   "outputs": [],
   "source": [
    "train_dict = df_train.to_dict(orient='records')"
   ]
  },
  {
   "cell_type": "code",
   "execution_count": 32,
   "id": "48c95916",
   "metadata": {},
   "outputs": [],
   "source": [
    "from sklearn.feature_extraction import DictVectorizer"
   ]
  },
  {
   "cell_type": "code",
   "execution_count": 33,
   "id": "8b866ba6",
   "metadata": {},
   "outputs": [
    {
     "data": {
      "text/html": [
       "<style>#sk-container-id-1 {color: black;}#sk-container-id-1 pre{padding: 0;}#sk-container-id-1 div.sk-toggleable {background-color: white;}#sk-container-id-1 label.sk-toggleable__label {cursor: pointer;display: block;width: 100%;margin-bottom: 0;padding: 0.3em;box-sizing: border-box;text-align: center;}#sk-container-id-1 label.sk-toggleable__label-arrow:before {content: \"▸\";float: left;margin-right: 0.25em;color: #696969;}#sk-container-id-1 label.sk-toggleable__label-arrow:hover:before {color: black;}#sk-container-id-1 div.sk-estimator:hover label.sk-toggleable__label-arrow:before {color: black;}#sk-container-id-1 div.sk-toggleable__content {max-height: 0;max-width: 0;overflow: hidden;text-align: left;background-color: #f0f8ff;}#sk-container-id-1 div.sk-toggleable__content pre {margin: 0.2em;color: black;border-radius: 0.25em;background-color: #f0f8ff;}#sk-container-id-1 input.sk-toggleable__control:checked~div.sk-toggleable__content {max-height: 200px;max-width: 100%;overflow: auto;}#sk-container-id-1 input.sk-toggleable__control:checked~label.sk-toggleable__label-arrow:before {content: \"▾\";}#sk-container-id-1 div.sk-estimator input.sk-toggleable__control:checked~label.sk-toggleable__label {background-color: #d4ebff;}#sk-container-id-1 div.sk-label input.sk-toggleable__control:checked~label.sk-toggleable__label {background-color: #d4ebff;}#sk-container-id-1 input.sk-hidden--visually {border: 0;clip: rect(1px 1px 1px 1px);clip: rect(1px, 1px, 1px, 1px);height: 1px;margin: -1px;overflow: hidden;padding: 0;position: absolute;width: 1px;}#sk-container-id-1 div.sk-estimator {font-family: monospace;background-color: #f0f8ff;border: 1px dotted black;border-radius: 0.25em;box-sizing: border-box;margin-bottom: 0.5em;}#sk-container-id-1 div.sk-estimator:hover {background-color: #d4ebff;}#sk-container-id-1 div.sk-parallel-item::after {content: \"\";width: 100%;border-bottom: 1px solid gray;flex-grow: 1;}#sk-container-id-1 div.sk-label:hover label.sk-toggleable__label {background-color: #d4ebff;}#sk-container-id-1 div.sk-serial::before {content: \"\";position: absolute;border-left: 1px solid gray;box-sizing: border-box;top: 0;bottom: 0;left: 50%;z-index: 0;}#sk-container-id-1 div.sk-serial {display: flex;flex-direction: column;align-items: center;background-color: white;padding-right: 0.2em;padding-left: 0.2em;position: relative;}#sk-container-id-1 div.sk-item {position: relative;z-index: 1;}#sk-container-id-1 div.sk-parallel {display: flex;align-items: stretch;justify-content: center;background-color: white;position: relative;}#sk-container-id-1 div.sk-item::before, #sk-container-id-1 div.sk-parallel-item::before {content: \"\";position: absolute;border-left: 1px solid gray;box-sizing: border-box;top: 0;bottom: 0;left: 50%;z-index: -1;}#sk-container-id-1 div.sk-parallel-item {display: flex;flex-direction: column;z-index: 1;position: relative;background-color: white;}#sk-container-id-1 div.sk-parallel-item:first-child::after {align-self: flex-end;width: 50%;}#sk-container-id-1 div.sk-parallel-item:last-child::after {align-self: flex-start;width: 50%;}#sk-container-id-1 div.sk-parallel-item:only-child::after {width: 0;}#sk-container-id-1 div.sk-dashed-wrapped {border: 1px dashed gray;margin: 0 0.4em 0.5em 0.4em;box-sizing: border-box;padding-bottom: 0.4em;background-color: white;}#sk-container-id-1 div.sk-label label {font-family: monospace;font-weight: bold;display: inline-block;line-height: 1.2em;}#sk-container-id-1 div.sk-label-container {text-align: center;}#sk-container-id-1 div.sk-container {/* jupyter's `normalize.less` sets `[hidden] { display: none; }` but bootstrap.min.css set `[hidden] { display: none !important; }` so we also need the `!important` here to be able to override the default hidden behavior on the sphinx rendered scikit-learn.org. See: https://github.com/scikit-learn/scikit-learn/issues/21755 */display: inline-block !important;position: relative;}#sk-container-id-1 div.sk-text-repr-fallback {display: none;}</style><div id=\"sk-container-id-1\" class=\"sk-top-container\"><div class=\"sk-text-repr-fallback\"><pre>DictVectorizer(sparse=False)</pre><b>In a Jupyter environment, please rerun this cell to show the HTML representation or trust the notebook. <br />On GitHub, the HTML representation is unable to render, please try loading this page with nbviewer.org.</b></div><div class=\"sk-container\" hidden><div class=\"sk-item\"><div class=\"sk-estimator sk-toggleable\"><input class=\"sk-toggleable__control sk-hidden--visually\" id=\"sk-estimator-id-1\" type=\"checkbox\" checked><label for=\"sk-estimator-id-1\" class=\"sk-toggleable__label sk-toggleable__label-arrow\">DictVectorizer</label><div class=\"sk-toggleable__content\"><pre>DictVectorizer(sparse=False)</pre></div></div></div></div></div>"
      ],
      "text/plain": [
       "DictVectorizer(sparse=False)"
      ]
     },
     "execution_count": 33,
     "metadata": {},
     "output_type": "execute_result"
    }
   ],
   "source": [
    "dv = DictVectorizer(sparse=False)\n",
    "dv.fit(train_dict)"
   ]
  },
  {
   "cell_type": "code",
   "execution_count": 34,
   "id": "abbf5f63",
   "metadata": {},
   "outputs": [],
   "source": [
    "X_train = dv.transform(train_dict)"
   ]
  },
  {
   "cell_type": "code",
   "execution_count": 35,
   "id": "3991eb89",
   "metadata": {},
   "outputs": [
    {
     "data": {
      "text/plain": [
       "array([1.500e+01, 6.000e+00, 2.610e+02, 2.100e+01, 0.000e+00, 0.000e+00,\n",
       "       0.000e+00, 0.000e+00, 0.000e+00, 0.000e+00, 0.000e+00, 0.000e+00,\n",
       "       0.000e+00, 0.000e+00, 0.000e+00, 0.000e+00, 0.000e+00, 0.000e+00,\n",
       "       0.000e+00, 0.000e+00, 0.000e+00, 0.000e+00, 0.000e+00, 0.000e+00,\n",
       "       0.000e+00, 0.000e+00, 0.000e+00, 0.000e+00, 0.000e+00, 0.000e+00,\n",
       "       0.000e+00, 0.000e+00, 0.000e+00, 0.000e+00, 0.000e+00, 0.000e+00,\n",
       "       0.000e+00, 1.000e+00, 0.000e+00, 0.000e+00, 0.000e+00, 0.000e+00,\n",
       "       0.000e+00, 0.000e+00, 0.000e+00, 0.000e+00, 0.000e+00, 0.000e+00,\n",
       "       0.000e+00, 0.000e+00, 0.000e+00, 0.000e+00, 0.000e+00, 0.000e+00,\n",
       "       0.000e+00, 0.000e+00, 0.000e+00, 0.000e+00, 0.000e+00, 0.000e+00,\n",
       "       0.000e+00, 0.000e+00, 0.000e+00, 0.000e+00, 0.000e+00, 0.000e+00,\n",
       "       0.000e+00, 0.000e+00, 0.000e+00, 0.000e+00, 0.000e+00, 0.000e+00,\n",
       "       0.000e+00, 0.000e+00, 0.000e+00, 0.000e+00, 0.000e+00, 0.000e+00,\n",
       "       0.000e+00, 0.000e+00, 0.000e+00, 0.000e+00, 0.000e+00, 0.000e+00,\n",
       "       0.000e+00, 0.000e+00, 0.000e+00, 0.000e+00, 0.000e+00, 0.000e+00,\n",
       "       0.000e+00, 0.000e+00, 0.000e+00, 0.000e+00, 0.000e+00, 0.000e+00,\n",
       "       0.000e+00, 0.000e+00, 0.000e+00, 0.000e+00, 0.000e+00, 0.000e+00,\n",
       "       0.000e+00, 0.000e+00, 0.000e+00, 0.000e+00, 0.000e+00, 0.000e+00,\n",
       "       0.000e+00, 0.000e+00, 0.000e+00, 0.000e+00, 0.000e+00, 0.000e+00,\n",
       "       0.000e+00, 0.000e+00, 0.000e+00, 0.000e+00, 0.000e+00, 0.000e+00,\n",
       "       0.000e+00, 0.000e+00, 0.000e+00, 0.000e+00, 0.000e+00, 0.000e+00,\n",
       "       0.000e+00, 0.000e+00, 0.000e+00, 0.000e+00, 0.000e+00, 0.000e+00,\n",
       "       0.000e+00, 0.000e+00, 0.000e+00, 0.000e+00, 0.000e+00, 0.000e+00,\n",
       "       0.000e+00, 0.000e+00, 0.000e+00, 0.000e+00, 0.000e+00, 0.000e+00,\n",
       "       0.000e+00, 0.000e+00, 0.000e+00, 0.000e+00, 0.000e+00, 0.000e+00,\n",
       "       0.000e+00, 0.000e+00, 0.000e+00, 0.000e+00, 0.000e+00, 0.000e+00,\n",
       "       0.000e+00, 0.000e+00, 0.000e+00, 0.000e+00, 0.000e+00, 0.000e+00,\n",
       "       0.000e+00, 0.000e+00, 0.000e+00, 0.000e+00, 0.000e+00, 0.000e+00,\n",
       "       0.000e+00, 0.000e+00, 0.000e+00, 0.000e+00, 0.000e+00, 0.000e+00,\n",
       "       0.000e+00, 0.000e+00, 0.000e+00, 0.000e+00, 0.000e+00, 0.000e+00,\n",
       "       0.000e+00, 0.000e+00, 0.000e+00, 0.000e+00, 0.000e+00, 0.000e+00,\n",
       "       0.000e+00, 0.000e+00, 0.000e+00, 0.000e+00, 0.000e+00, 0.000e+00,\n",
       "       0.000e+00, 0.000e+00, 0.000e+00, 0.000e+00, 0.000e+00, 0.000e+00,\n",
       "       0.000e+00, 0.000e+00, 0.000e+00, 0.000e+00, 0.000e+00, 0.000e+00,\n",
       "       0.000e+00, 0.000e+00, 0.000e+00, 0.000e+00, 0.000e+00, 0.000e+00,\n",
       "       0.000e+00, 0.000e+00, 0.000e+00, 0.000e+00, 0.000e+00, 0.000e+00,\n",
       "       0.000e+00, 0.000e+00, 0.000e+00, 0.000e+00, 0.000e+00, 0.000e+00,\n",
       "       0.000e+00, 0.000e+00, 0.000e+00, 0.000e+00, 0.000e+00, 0.000e+00,\n",
       "       0.000e+00, 0.000e+00, 0.000e+00, 0.000e+00, 0.000e+00, 0.000e+00,\n",
       "       0.000e+00, 0.000e+00, 0.000e+00, 0.000e+00, 0.000e+00, 0.000e+00,\n",
       "       0.000e+00, 0.000e+00, 0.000e+00, 0.000e+00, 0.000e+00, 0.000e+00,\n",
       "       0.000e+00, 0.000e+00, 0.000e+00, 0.000e+00, 0.000e+00, 0.000e+00,\n",
       "       0.000e+00, 0.000e+00, 0.000e+00, 0.000e+00, 0.000e+00, 0.000e+00,\n",
       "       0.000e+00, 0.000e+00, 0.000e+00, 0.000e+00, 0.000e+00, 0.000e+00,\n",
       "       0.000e+00, 0.000e+00, 0.000e+00, 0.000e+00, 0.000e+00, 0.000e+00,\n",
       "       0.000e+00, 0.000e+00, 0.000e+00, 0.000e+00, 0.000e+00, 0.000e+00,\n",
       "       0.000e+00, 0.000e+00, 0.000e+00, 0.000e+00, 0.000e+00, 0.000e+00,\n",
       "       0.000e+00, 0.000e+00, 0.000e+00, 0.000e+00, 0.000e+00, 0.000e+00,\n",
       "       0.000e+00, 0.000e+00, 0.000e+00, 0.000e+00, 0.000e+00, 0.000e+00,\n",
       "       0.000e+00, 0.000e+00, 0.000e+00, 0.000e+00, 0.000e+00, 0.000e+00,\n",
       "       0.000e+00, 0.000e+00, 0.000e+00, 0.000e+00, 0.000e+00, 0.000e+00,\n",
       "       0.000e+00, 0.000e+00, 0.000e+00, 0.000e+00, 0.000e+00, 0.000e+00,\n",
       "       0.000e+00, 0.000e+00, 0.000e+00, 0.000e+00, 0.000e+00, 0.000e+00,\n",
       "       0.000e+00, 0.000e+00, 0.000e+00, 0.000e+00, 0.000e+00, 0.000e+00,\n",
       "       0.000e+00, 0.000e+00, 0.000e+00, 0.000e+00, 0.000e+00, 0.000e+00,\n",
       "       0.000e+00, 0.000e+00, 0.000e+00, 0.000e+00, 0.000e+00, 0.000e+00,\n",
       "       0.000e+00, 0.000e+00, 0.000e+00, 0.000e+00, 0.000e+00, 0.000e+00,\n",
       "       0.000e+00, 0.000e+00, 0.000e+00, 0.000e+00, 0.000e+00, 0.000e+00,\n",
       "       0.000e+00, 0.000e+00, 0.000e+00, 0.000e+00, 0.000e+00, 0.000e+00,\n",
       "       0.000e+00, 0.000e+00, 0.000e+00, 0.000e+00, 0.000e+00, 0.000e+00,\n",
       "       0.000e+00, 0.000e+00, 0.000e+00, 0.000e+00, 0.000e+00, 0.000e+00,\n",
       "       0.000e+00, 0.000e+00, 0.000e+00, 0.000e+00, 0.000e+00, 0.000e+00,\n",
       "       0.000e+00, 0.000e+00, 0.000e+00, 0.000e+00, 0.000e+00, 0.000e+00,\n",
       "       0.000e+00, 0.000e+00, 0.000e+00, 0.000e+00, 0.000e+00, 0.000e+00,\n",
       "       0.000e+00, 0.000e+00, 0.000e+00, 0.000e+00, 0.000e+00, 0.000e+00,\n",
       "       0.000e+00, 0.000e+00, 0.000e+00, 0.000e+00, 0.000e+00, 0.000e+00,\n",
       "       0.000e+00, 0.000e+00, 0.000e+00, 0.000e+00, 0.000e+00, 0.000e+00,\n",
       "       0.000e+00, 0.000e+00, 0.000e+00, 0.000e+00, 0.000e+00, 1.000e+00,\n",
       "       0.000e+00, 0.000e+00, 0.000e+00, 0.000e+00, 0.000e+00, 0.000e+00,\n",
       "       0.000e+00, 0.000e+00, 0.000e+00, 0.000e+00, 0.000e+00, 0.000e+00,\n",
       "       0.000e+00, 0.000e+00, 0.000e+00, 0.000e+00, 0.000e+00, 0.000e+00,\n",
       "       0.000e+00, 0.000e+00, 0.000e+00, 0.000e+00, 0.000e+00, 0.000e+00,\n",
       "       0.000e+00, 0.000e+00, 0.000e+00, 0.000e+00, 0.000e+00, 0.000e+00,\n",
       "       0.000e+00, 0.000e+00, 0.000e+00, 0.000e+00, 0.000e+00, 0.000e+00,\n",
       "       0.000e+00, 0.000e+00, 0.000e+00, 0.000e+00, 0.000e+00, 0.000e+00,\n",
       "       0.000e+00, 0.000e+00, 0.000e+00, 0.000e+00, 0.000e+00, 0.000e+00,\n",
       "       0.000e+00, 0.000e+00, 0.000e+00, 0.000e+00, 0.000e+00, 0.000e+00,\n",
       "       0.000e+00, 0.000e+00, 0.000e+00, 0.000e+00, 0.000e+00, 0.000e+00,\n",
       "       0.000e+00, 0.000e+00, 0.000e+00, 0.000e+00, 0.000e+00, 0.000e+00,\n",
       "       0.000e+00, 0.000e+00, 0.000e+00, 0.000e+00, 0.000e+00, 0.000e+00,\n",
       "       0.000e+00, 0.000e+00, 0.000e+00, 0.000e+00, 0.000e+00, 0.000e+00,\n",
       "       0.000e+00, 0.000e+00, 0.000e+00, 0.000e+00, 0.000e+00, 0.000e+00,\n",
       "       0.000e+00, 0.000e+00, 0.000e+00, 0.000e+00, 0.000e+00, 0.000e+00,\n",
       "       0.000e+00, 0.000e+00, 0.000e+00, 0.000e+00, 0.000e+00, 0.000e+00,\n",
       "       0.000e+00, 0.000e+00, 0.000e+00, 0.000e+00, 0.000e+00, 0.000e+00,\n",
       "       0.000e+00, 0.000e+00, 0.000e+00, 0.000e+00, 0.000e+00, 0.000e+00,\n",
       "       0.000e+00, 0.000e+00, 0.000e+00, 0.000e+00, 0.000e+00, 0.000e+00,\n",
       "       0.000e+00, 0.000e+00, 0.000e+00, 0.000e+00, 0.000e+00, 0.000e+00,\n",
       "       0.000e+00, 0.000e+00, 0.000e+00, 0.000e+00, 0.000e+00, 0.000e+00,\n",
       "       0.000e+00, 0.000e+00, 0.000e+00, 0.000e+00, 0.000e+00, 0.000e+00,\n",
       "       0.000e+00, 0.000e+00, 0.000e+00, 0.000e+00, 0.000e+00, 0.000e+00,\n",
       "       0.000e+00, 0.000e+00, 0.000e+00, 0.000e+00, 0.000e+00, 0.000e+00,\n",
       "       0.000e+00, 0.000e+00, 0.000e+00, 0.000e+00, 0.000e+00, 0.000e+00,\n",
       "       0.000e+00, 0.000e+00, 0.000e+00, 0.000e+00, 0.000e+00, 0.000e+00,\n",
       "       0.000e+00, 0.000e+00, 0.000e+00, 0.000e+00, 0.000e+00, 0.000e+00,\n",
       "       0.000e+00, 0.000e+00, 0.000e+00, 0.000e+00, 0.000e+00, 0.000e+00,\n",
       "       0.000e+00, 0.000e+00, 0.000e+00, 0.000e+00, 0.000e+00, 0.000e+00,\n",
       "       0.000e+00, 0.000e+00, 0.000e+00, 0.000e+00, 0.000e+00, 0.000e+00,\n",
       "       0.000e+00, 0.000e+00, 0.000e+00, 0.000e+00, 0.000e+00, 0.000e+00,\n",
       "       0.000e+00, 0.000e+00, 0.000e+00, 0.000e+00, 0.000e+00, 0.000e+00,\n",
       "       0.000e+00, 0.000e+00, 0.000e+00, 0.000e+00, 0.000e+00, 0.000e+00,\n",
       "       0.000e+00, 0.000e+00, 0.000e+00, 0.000e+00, 0.000e+00, 0.000e+00,\n",
       "       0.000e+00, 0.000e+00, 0.000e+00, 0.000e+00, 0.000e+00, 0.000e+00,\n",
       "       0.000e+00, 0.000e+00, 0.000e+00, 0.000e+00, 0.000e+00, 0.000e+00,\n",
       "       0.000e+00, 0.000e+00, 0.000e+00, 0.000e+00, 0.000e+00, 0.000e+00,\n",
       "       0.000e+00, 0.000e+00, 0.000e+00, 0.000e+00, 0.000e+00, 0.000e+00,\n",
       "       0.000e+00, 0.000e+00, 0.000e+00, 0.000e+00, 0.000e+00, 0.000e+00,\n",
       "       0.000e+00, 0.000e+00, 0.000e+00, 0.000e+00, 0.000e+00, 0.000e+00,\n",
       "       0.000e+00, 0.000e+00, 0.000e+00, 0.000e+00, 0.000e+00, 0.000e+00,\n",
       "       0.000e+00, 0.000e+00, 0.000e+00, 0.000e+00, 0.000e+00, 0.000e+00,\n",
       "       0.000e+00, 0.000e+00, 0.000e+00, 0.000e+00, 0.000e+00, 0.000e+00,\n",
       "       0.000e+00, 0.000e+00, 0.000e+00, 0.000e+00, 0.000e+00, 0.000e+00,\n",
       "       0.000e+00, 0.000e+00, 0.000e+00, 0.000e+00, 0.000e+00, 0.000e+00,\n",
       "       0.000e+00, 0.000e+00, 0.000e+00, 0.000e+00, 0.000e+00, 0.000e+00,\n",
       "       0.000e+00, 0.000e+00, 0.000e+00, 0.000e+00, 0.000e+00, 0.000e+00,\n",
       "       0.000e+00, 0.000e+00, 0.000e+00, 0.000e+00, 0.000e+00, 0.000e+00,\n",
       "       0.000e+00, 0.000e+00, 0.000e+00, 0.000e+00, 0.000e+00, 0.000e+00,\n",
       "       0.000e+00, 0.000e+00, 0.000e+00, 0.000e+00, 0.000e+00, 0.000e+00,\n",
       "       0.000e+00, 0.000e+00, 0.000e+00, 0.000e+00, 0.000e+00, 0.000e+00,\n",
       "       0.000e+00, 0.000e+00, 0.000e+00, 0.000e+00, 0.000e+00, 0.000e+00,\n",
       "       0.000e+00, 0.000e+00, 0.000e+00, 0.000e+00, 0.000e+00, 0.000e+00,\n",
       "       0.000e+00, 0.000e+00, 0.000e+00, 0.000e+00, 0.000e+00, 0.000e+00,\n",
       "       0.000e+00, 0.000e+00, 0.000e+00, 0.000e+00, 0.000e+00, 0.000e+00,\n",
       "       0.000e+00, 0.000e+00, 0.000e+00, 0.000e+00, 0.000e+00, 0.000e+00,\n",
       "       0.000e+00, 0.000e+00, 0.000e+00, 0.000e+00, 0.000e+00, 0.000e+00,\n",
       "       0.000e+00, 0.000e+00, 0.000e+00, 0.000e+00, 0.000e+00, 0.000e+00,\n",
       "       0.000e+00, 0.000e+00, 0.000e+00, 0.000e+00, 0.000e+00, 0.000e+00,\n",
       "       0.000e+00, 0.000e+00, 0.000e+00, 0.000e+00, 0.000e+00, 0.000e+00,\n",
       "       0.000e+00, 0.000e+00, 0.000e+00, 0.000e+00, 0.000e+00, 0.000e+00,\n",
       "       0.000e+00, 0.000e+00, 0.000e+00, 0.000e+00, 0.000e+00, 0.000e+00,\n",
       "       0.000e+00, 0.000e+00, 0.000e+00, 0.000e+00, 0.000e+00, 0.000e+00,\n",
       "       0.000e+00, 0.000e+00, 0.000e+00, 0.000e+00, 0.000e+00, 0.000e+00,\n",
       "       0.000e+00, 0.000e+00, 0.000e+00, 0.000e+00, 0.000e+00, 0.000e+00,\n",
       "       0.000e+00, 0.000e+00, 0.000e+00, 0.000e+00, 0.000e+00, 0.000e+00,\n",
       "       0.000e+00, 0.000e+00, 0.000e+00, 0.000e+00, 0.000e+00, 0.000e+00,\n",
       "       0.000e+00, 0.000e+00, 0.000e+00, 0.000e+00, 0.000e+00, 0.000e+00,\n",
       "       0.000e+00, 0.000e+00, 0.000e+00, 0.000e+00, 0.000e+00, 0.000e+00,\n",
       "       0.000e+00, 0.000e+00, 0.000e+00, 0.000e+00, 0.000e+00, 0.000e+00,\n",
       "       0.000e+00, 0.000e+00, 0.000e+00, 0.000e+00, 0.000e+00, 0.000e+00,\n",
       "       0.000e+00, 0.000e+00, 0.000e+00, 0.000e+00, 0.000e+00, 0.000e+00,\n",
       "       0.000e+00, 0.000e+00, 0.000e+00, 0.000e+00, 0.000e+00, 0.000e+00,\n",
       "       0.000e+00, 0.000e+00, 0.000e+00, 0.000e+00, 0.000e+00, 0.000e+00,\n",
       "       0.000e+00, 0.000e+00, 0.000e+00, 0.000e+00, 0.000e+00, 0.000e+00,\n",
       "       0.000e+00, 0.000e+00, 0.000e+00, 0.000e+00, 0.000e+00, 0.000e+00,\n",
       "       0.000e+00, 0.000e+00, 0.000e+00, 0.000e+00, 0.000e+00, 0.000e+00,\n",
       "       0.000e+00, 0.000e+00, 0.000e+00, 0.000e+00, 0.000e+00, 0.000e+00,\n",
       "       0.000e+00, 0.000e+00, 0.000e+00, 0.000e+00, 0.000e+00, 0.000e+00,\n",
       "       0.000e+00, 0.000e+00, 0.000e+00, 0.000e+00, 0.000e+00, 0.000e+00,\n",
       "       0.000e+00, 0.000e+00, 0.000e+00, 0.000e+00, 0.000e+00, 0.000e+00,\n",
       "       0.000e+00, 0.000e+00, 0.000e+00, 0.000e+00, 0.000e+00, 0.000e+00,\n",
       "       0.000e+00, 0.000e+00, 0.000e+00, 0.000e+00, 0.000e+00, 0.000e+00,\n",
       "       0.000e+00, 0.000e+00, 0.000e+00, 0.000e+00, 0.000e+00, 0.000e+00,\n",
       "       0.000e+00, 0.000e+00, 0.000e+00, 0.000e+00, 0.000e+00, 0.000e+00,\n",
       "       0.000e+00, 0.000e+00, 0.000e+00, 0.000e+00, 0.000e+00, 0.000e+00,\n",
       "       0.000e+00, 0.000e+00, 0.000e+00, 0.000e+00, 0.000e+00, 0.000e+00,\n",
       "       0.000e+00, 0.000e+00, 0.000e+00, 0.000e+00, 0.000e+00, 0.000e+00,\n",
       "       0.000e+00, 0.000e+00, 1.000e+00, 0.000e+00, 0.000e+00, 0.000e+00,\n",
       "       0.000e+00, 0.000e+00, 0.000e+00, 0.000e+00, 0.000e+00, 0.000e+00,\n",
       "       0.000e+00, 0.000e+00, 0.000e+00, 1.000e+00, 0.000e+00, 0.000e+00,\n",
       "       0.000e+00, 0.000e+00, 0.000e+00, 0.000e+00, 2.015e+03])"
      ]
     },
     "execution_count": 35,
     "metadata": {},
     "output_type": "execute_result"
    }
   ],
   "source": [
    "X_train[0]"
   ]
  },
  {
   "cell_type": "code",
   "execution_count": 36,
   "id": "fca801dd",
   "metadata": {},
   "outputs": [
    {
     "data": {
      "text/plain": [
       "array(['city_mpg', 'engine_cylinders', 'engine_hp', 'highway_mpg',\n",
       "       'make=acura', 'make=alfa_romeo', 'make=aston_martin', 'make=audi',\n",
       "       'make=bentley', 'make=bmw', 'make=bugatti', 'make=buick',\n",
       "       'make=cadillac', 'make=chevrolet', 'make=chrysler', 'make=dodge',\n",
       "       'make=ferrari', 'make=fiat', 'make=ford', 'make=genesis',\n",
       "       'make=gmc', 'make=honda', 'make=hummer', 'make=hyundai',\n",
       "       'make=infiniti', 'make=kia', 'make=lamborghini', 'make=land_rover',\n",
       "       'make=lexus', 'make=lincoln', 'make=lotus', 'make=maserati',\n",
       "       'make=maybach', 'make=mazda', 'make=mclaren', 'make=mercedes-benz',\n",
       "       'make=mitsubishi', 'make=nissan', 'make=oldsmobile',\n",
       "       'make=plymouth', 'make=pontiac', 'make=porsche',\n",
       "       'make=rolls-royce', 'make=saab', 'make=scion', 'make=spyker',\n",
       "       'make=subaru', 'make=suzuki', 'make=tesla', 'make=toyota',\n",
       "       'make=volkswagen', 'make=volvo', 'model=100', 'model=124_spider',\n",
       "       'model=190-class', 'model=1_series', 'model=2', 'model=200',\n",
       "       'model=200sx', 'model=240', 'model=240sx', 'model=2_series',\n",
       "       'model=3', 'model=300', 'model=300-class', 'model=3000gt',\n",
       "       'model=300m', 'model=300zx', 'model=323', 'model=350-class',\n",
       "       'model=350z', 'model=360', 'model=370z', 'model=3_series',\n",
       "       'model=3_series_gran_turismo', 'model=400-class',\n",
       "       'model=420-class', 'model=456m', 'model=458_italia',\n",
       "       'model=4_series', 'model=4_series_gran_coupe', 'model=4c',\n",
       "       'model=4runner', 'model=5', 'model=500', 'model=500-class',\n",
       "       'model=500e', 'model=500l', 'model=500x', 'model=550',\n",
       "       'model=560-class', 'model=57', 'model=575m', 'model=599',\n",
       "       'model=5_series', 'model=5_series_gran_turismo', 'model=6',\n",
       "       'model=600-class', 'model=6000', 'model=612_scaglietti',\n",
       "       'model=62', 'model=626', 'model=650s_coupe', 'model=6_series',\n",
       "       'model=6_series_gran_coupe', 'model=718_cayman', 'model=740',\n",
       "       'model=760', 'model=780', 'model=7_series', 'model=80',\n",
       "       'model=850', 'model=86', 'model=8_series', 'model=9-2x',\n",
       "       'model=9-3', 'model=9-3_griffin', 'model=9-4x', 'model=9-5',\n",
       "       'model=9-7x', 'model=90', 'model=900', 'model=9000', 'model=911',\n",
       "       'model=928', 'model=929', 'model=940', 'model=944', 'model=960',\n",
       "       'model=968', 'model=a3', 'model=a4', 'model=a4_allroad',\n",
       "       'model=a5', 'model=a6', 'model=a7', 'model=a8', 'model=acadia',\n",
       "       'model=acadia_limited', 'model=accent', 'model=acclaim',\n",
       "       'model=accord', 'model=accord_crosstour', 'model=accord_hybrid',\n",
       "       'model=accord_plug-in_hybrid', 'model=achieva',\n",
       "       'model=activehybrid_5', 'model=activehybrid_7',\n",
       "       'model=activehybrid_x6', 'model=aerio', 'model=aerostar',\n",
       "       'model=alero', 'model=allante', 'model=allroad',\n",
       "       'model=allroad_quattro', 'model=alpina',\n",
       "       'model=alpina_b6_gran_coupe', 'model=alpina_b7', 'model=altima',\n",
       "       'model=altima_hybrid', 'model=amanti', 'model=amg_gt',\n",
       "       'model=armada', 'model=arnage', 'model=aspen', 'model=aspire',\n",
       "       'model=astro', 'model=astro_cargo', 'model=ats', 'model=ats-v',\n",
       "       'model=ats_coupe', 'model=aurora', 'model=avalanche',\n",
       "       'model=avalon', 'model=avalon_hybrid', 'model=avenger',\n",
       "       'model=aventador', 'model=aveo', 'model=aviator', 'model=axxess',\n",
       "       'model=azera', 'model=aztek', 'model=azure', 'model=azure_t',\n",
       "       'model=b-class_electric_drive', 'model=b-series',\n",
       "       'model=b-series_pickup', 'model=b-series_truck',\n",
       "       'model=b9_tribeca', 'model=baja', 'model=beetle',\n",
       "       'model=beetle_convertible', 'model=beretta',\n",
       "       'model=black_diamond_avalanche', 'model=blackwood', 'model=blazer',\n",
       "       'model=bonneville', 'model=borrego', 'model=boxster',\n",
       "       'model=bravada', 'model=bronco', 'model=bronco_ii',\n",
       "       'model=brooklands', 'model=brougham', 'model=brz', 'model=c-class',\n",
       "       'model=c-max_hybrid', 'model=c/k_1500_series',\n",
       "       'model=c/k_2500_series', 'model=c30', 'model=c43_amg', 'model=c70',\n",
       "       'model=c8', 'model=cabrio', 'model=cabriolet', 'model=cadenza',\n",
       "       'model=caliber', 'model=california', 'model=california_t',\n",
       "       'model=camaro', 'model=camry', 'model=camry_hybrid',\n",
       "       'model=camry_solara', 'model=canyon', 'model=caprice',\n",
       "       'model=captiva_sport', 'model=caravan', 'model=carrera_gt',\n",
       "       'model=cascada', 'model=catera', 'model=cavalier', 'model=cayenne',\n",
       "       'model=cayman', 'model=cayman_s', 'model=cc', 'model=celebrity',\n",
       "       'model=celica', 'model=century', 'model=challenger',\n",
       "       'model=charger', 'model=chevy_van', 'model=ciera', 'model=cirrus',\n",
       "       'model=city_express', 'model=civic', 'model=civic_crx',\n",
       "       'model=civic_del_sol', 'model=cl', 'model=cl-class',\n",
       "       'model=cla-class', 'model=classic', 'model=clk-class',\n",
       "       'model=cls-class', 'model=cobalt', 'model=colorado', 'model=colt',\n",
       "       'model=concorde', 'model=continental',\n",
       "       'model=continental_flying_spur',\n",
       "       'model=continental_flying_spur_speed', 'model=continental_gt',\n",
       "       'model=continental_gt_speed', 'model=continental_gtc',\n",
       "       'model=continental_gtc_speed', 'model=continental_supersports',\n",
       "       'model=continental_supersports_convertible', 'model=contour',\n",
       "       'model=contour_svt', 'model=corniche', 'model=corolla',\n",
       "       'model=corolla_im', 'model=corrado', 'model=corsica',\n",
       "       'model=corvette', 'model=corvette_stingray', 'model=coupe',\n",
       "       'model=cr-v', 'model=cr-z', 'model=cressida', 'model=crossfire',\n",
       "       'model=crosstour', 'model=crosstrek', 'model=crown_victoria',\n",
       "       'model=cruze', 'model=cruze_limited', 'model=ct6', 'model=ct_200h',\n",
       "       'model=cts', 'model=cts-v', 'model=cts-v_coupe',\n",
       "       'model=cts-v_wagon', 'model=cts_coupe', 'model=cts_wagon',\n",
       "       'model=cube', 'model=custom_cruiser', 'model=cutlass',\n",
       "       'model=cutlass_calais', 'model=cutlass_ciera',\n",
       "       'model=cutlass_supreme', 'model=cx-3', 'model=cx-5', 'model=cx-7',\n",
       "       'model=cx-9', 'model=dakota', 'model=dart', 'model=dawn',\n",
       "       'model=daytona', 'model=db7', 'model=db9', 'model=db9_gt',\n",
       "       'model=dbs', 'model=defender', 'model=deville', 'model=diablo',\n",
       "       'model=diamante', 'model=discovery', 'model=discovery_series_ii',\n",
       "       'model=discovery_sport', 'model=dts', 'model=durango',\n",
       "       'model=dynasty', 'model=e-150', 'model=e-250', 'model=e-class',\n",
       "       'model=e-golf', 'model=e-series_van', 'model=e-series_wagon',\n",
       "       'model=e55_amg', 'model=echo', 'model=eclipse',\n",
       "       'model=eclipse_spyder', 'model=edge', 'model=eighty-eight',\n",
       "       'model=eighty-eight_royale', 'model=elantra',\n",
       "       'model=elantra_coupe', 'model=elantra_gt', 'model=elantra_touring',\n",
       "       'model=eldorado', 'model=electra', 'model=element', 'model=elise',\n",
       "       'model=enclave', 'model=encore', 'model=endeavor',\n",
       "       'model=entourage', 'model=envision', 'model=envoy',\n",
       "       'model=envoy_xl', 'model=envoy_xuv', 'model=eos', 'model=equator',\n",
       "       'model=equinox', 'model=equus', 'model=es_250', 'model=es_300',\n",
       "       'model=es_300h', 'model=escalade', 'model=escalade_esv',\n",
       "       'model=escalade_ext', 'model=escalade_hybrid', 'model=escape',\n",
       "       'model=escape_hybrid', 'model=escort', 'model=esprit',\n",
       "       'model=esteem', 'model=eurovan', 'model=evora', 'model=evora_400',\n",
       "       'model=ex', 'model=ex35', 'model=excel', 'model=exige',\n",
       "       'model=expedition', 'model=explorer', 'model=explorer_sport',\n",
       "       'model=explorer_sport_trac', 'model=expo', 'model=express',\n",
       "       'model=express_cargo', 'model=f-150', 'model=f-150_heritage',\n",
       "       'model=f-150_svt_lightning', 'model=f-250', 'model=f12_berlinetta',\n",
       "       'model=f430', 'model=festiva', 'model=ff', 'model=fiesta',\n",
       "       'model=firebird', 'model=fit', 'model=five_hundred',\n",
       "       'model=fj_cruiser', 'model=fleetwood', 'model=flex',\n",
       "       'model=flying_spur', 'model=focus', 'model=focus_rs',\n",
       "       'model=focus_st', 'model=forenza', 'model=forester', 'model=forte',\n",
       "       'model=fox', 'model=fr-s', 'model=freelander', 'model=freestar',\n",
       "       'model=freestyle', 'model=frontier', 'model=fusion',\n",
       "       'model=fusion_hybrid', 'model=fx', 'model=fx35', 'model=fx45',\n",
       "       'model=fx50', 'model=g-class', 'model=g20', 'model=g35',\n",
       "       'model=g37', 'model=g37_convertible', 'model=g37_coupe',\n",
       "       'model=g37_sedan', 'model=g5', 'model=g6', 'model=g8', 'model=g80',\n",
       "       'model=g_convertible', 'model=g_coupe', 'model=g_sedan',\n",
       "       'model=galant', 'model=gallardo', 'model=genesis',\n",
       "       'model=genesis_coupe', 'model=ghibli', 'model=ghost',\n",
       "       'model=ghost_series_ii', 'model=gl-class', 'model=gla-class',\n",
       "       'model=glc-class', 'model=gle-class', 'model=gle-class_coupe',\n",
       "       'model=gli', 'model=glk-class', 'model=gls-class', 'model=golf',\n",
       "       'model=golf_alltrack', 'model=golf_gti', 'model=golf_r',\n",
       "       'model=golf_sportwagen', 'model=grand_am', 'model=grand_caravan',\n",
       "       'model=grand_prix', 'model=grand_vitara', 'model=grand_voyager',\n",
       "       'model=gransport', 'model=granturismo',\n",
       "       'model=granturismo_convertible', 'model=gs_200t', 'model=gs_300',\n",
       "       'model=gs_350', 'model=gs_400', 'model=gs_430', 'model=gs_450h',\n",
       "       'model=gs_460', 'model=gs_f', 'model=gt', 'model=gt-r',\n",
       "       'model=gti', 'model=gto', 'model=gx_460', 'model=gx_470',\n",
       "       'model=h3', 'model=h3t', 'model=hhr', 'model=highlander',\n",
       "       'model=highlander_hybrid', 'model=horizon', 'model=hr-v',\n",
       "       'model=hs_250h', 'model=huracan', 'model=i-miev', 'model=i3',\n",
       "       'model=i30', 'model=i35', 'model=ia', 'model=ilx',\n",
       "       'model=ilx_hybrid', 'model=im', 'model=impala',\n",
       "       'model=impala_limited', 'model=imperial', 'model=impreza',\n",
       "       'model=impreza_wrx', 'model=insight', 'model=integra',\n",
       "       'model=intrepid', 'model=intrigue', 'model=iq', 'model=is_200t',\n",
       "       'model=is_250', 'model=is_250_c', 'model=is_300', 'model=is_350',\n",
       "       'model=is_350_c', 'model=is_f', 'model=j30', 'model=jetta',\n",
       "       'model=jetta_gli', 'model=jetta_hybrid', 'model=jetta_sportwagen',\n",
       "       'model=jimmy', 'model=journey', 'model=juke', 'model=justy',\n",
       "       'model=jx', 'model=k900', 'model=kizashi', 'model=lacrosse',\n",
       "       'model=lancer', 'model=lancer_evolution', 'model=lancer_sportback',\n",
       "       'model=landaulet', 'model=laser', 'model=le_baron',\n",
       "       'model=le_mans', 'model=leaf', 'model=legacy', 'model=legend',\n",
       "       'model=lesabre', 'model=levante', 'model=lfa', 'model=lhs',\n",
       "       'model=loyale', 'model=lr2', 'model=lr3', 'model=lr4', 'model=ls',\n",
       "       'model=ls_400', 'model=ls_430', 'model=ls_460', 'model=ls_600h_l',\n",
       "       'model=lss', 'model=ltd_crown_victoria', 'model=lucerne',\n",
       "       'model=lumina', 'model=lumina_minivan', 'model=lx_450',\n",
       "       'model=lx_470', 'model=lx_570', 'model=m', 'model=m-class',\n",
       "       'model=m2', 'model=m3', 'model=m30', 'model=m35', 'model=m4',\n",
       "       'model=m45', 'model=m4_gts', 'model=m5', 'model=m56', 'model=m6',\n",
       "       'model=m6_gran_coupe', 'model=macan', 'model=magnum',\n",
       "       'model=malibu', 'model=malibu_classic', 'model=malibu_hybrid',\n",
       "       'model=malibu_limited', 'model=malibu_maxx', 'model=mark_lt',\n",
       "       'model=mark_vii', 'model=mark_viii', 'model=matrix',\n",
       "       'model=maxima', 'model=mazdaspeed_3', 'model=mazdaspeed_6',\n",
       "       'model=mazdaspeed_mx-5_miata', 'model=mazdaspeed_protege',\n",
       "       'model=mdx', 'model=metris', 'model=metro',\n",
       "       'model=mighty_max_pickup', 'model=millenia', 'model=mirage',\n",
       "       'model=mirage_g4', 'model=mkc', 'model=mks', 'model=mkt',\n",
       "       'model=mkx', 'model=mkz', 'model=mkz_hybrid', 'model=model_s',\n",
       "       'model=monaco', 'model=montana', 'model=montana_sv6',\n",
       "       'model=monte_carlo', 'model=montero', 'model=montero_sport',\n",
       "       'model=mp4-12c', 'model=mpv', 'model=mr2', 'model=mr2_spyder',\n",
       "       'model=mulsanne', 'model=murano', 'model=murano_crosscabriolet',\n",
       "       'model=murcielago', 'model=mustang', 'model=mustang_svt_cobra',\n",
       "       'model=mx-3', 'model=mx-5_miata', 'model=mx-6', 'model=navajo',\n",
       "       'model=navigator', 'model=neon', 'model=new_beetle',\n",
       "       'model=new_yorker', 'model=ninety-eight', 'model=nitro',\n",
       "       'model=nsx', 'model=nv200', 'model=nx', 'model=nx_200t',\n",
       "       'model=nx_300h', 'model=odyssey', 'model=omni', 'model=optima',\n",
       "       'model=optima_hybrid', 'model=outback', 'model=outlander',\n",
       "       'model=outlander_sport', 'model=pacifica', 'model=panamera',\n",
       "       'model=park_avenue', 'model=paseo', 'model=passat',\n",
       "       'model=passport', 'model=pathfinder', 'model=phaeton',\n",
       "       'model=phantom', 'model=phantom_coupe',\n",
       "       'model=phantom_drophead_coupe', 'model=pickup', 'model=pilot',\n",
       "       'model=precis', 'model=prelude', 'model=previa', 'model=prius',\n",
       "       'model=prius_c', 'model=prius_v', 'model=prizm', 'model=probe',\n",
       "       'model=protege', 'model=protege5', 'model=prowler',\n",
       "       'model=pt_cruiser', 'model=q3', 'model=q40', 'model=q45',\n",
       "       'model=q5', 'model=q50', 'model=q60_convertible',\n",
       "       'model=q60_coupe', 'model=q7', 'model=q70', 'model=quattroporte',\n",
       "       'model=quest', 'model=qx', 'model=qx4', 'model=qx50', 'model=qx56',\n",
       "       'model=qx60', 'model=qx70', 'model=qx80', 'model=r-class',\n",
       "       'model=r32', 'model=r8', 'model=rabbit', 'model=raider',\n",
       "       'model=rainier', 'model=rally_wagon', 'model=ram_150',\n",
       "       'model=ram_250', 'model=ram_50_pickup', 'model=ram_cargo',\n",
       "       'model=ram_pickup_1500', 'model=ram_van', 'model=ram_wagon',\n",
       "       'model=ramcharger', 'model=range_rover',\n",
       "       'model=range_rover_evoque', 'model=range_rover_sport',\n",
       "       'model=ranger', 'model=rapide', 'model=rav4', 'model=rav4_ev',\n",
       "       'model=rav4_hybrid', 'model=rc_200t', 'model=rc_300',\n",
       "       'model=rc_350', 'model=rc_f', 'model=rdx', 'model=reatta',\n",
       "       'model=regal', 'model=regency', 'model=rendezvous', 'model=reno',\n",
       "       'model=reventon', 'model=ridgeline', 'model=rio', 'model=riviera',\n",
       "       'model=rl', 'model=rlx', 'model=roadmaster', 'model=rogue',\n",
       "       'model=rogue_select', 'model=rondo', 'model=routan', 'model=rs_4',\n",
       "       'model=rs_5', 'model=rs_7', 'model=rsx', 'model=rx-7',\n",
       "       'model=rx-8', 'model=rx_300', 'model=rx_330', 'model=rx_350',\n",
       "       'model=rx_400h', 'model=rx_450h', 'model=s-10',\n",
       "       'model=s-10_blazer', 'model=s-15', 'model=s-15_jimmy',\n",
       "       'model=s-class', 'model=s2000', 'model=s3', 'model=s4',\n",
       "       'model=s40', 'model=s5', 'model=s6', 'model=s60',\n",
       "       'model=s60_cross_country', 'model=s7', 'model=s70', 'model=s8',\n",
       "       'model=s80', 'model=s90', 'model=safari', 'model=safari_cargo',\n",
       "       'model=samurai', 'model=santa_fe', 'model=santa_fe_sport',\n",
       "       'model=savana', 'model=savana_cargo', 'model=sc_300',\n",
       "       'model=sc_400', 'model=sc_430', 'model=scoupe', 'model=sebring',\n",
       "       'model=sedona', 'model=sentra', 'model=sephia', 'model=sequoia',\n",
       "       'model=seville', 'model=shadow', 'model=shelby_gt350',\n",
       "       'model=shelby_gt500', 'model=sidekick', 'model=sienna',\n",
       "       'model=sierra_1500', 'model=sierra_1500_classic',\n",
       "       'model=sierra_1500_hybrid', 'model=sierra_1500hd',\n",
       "       'model=sierra_c3', 'model=sierra_classic_1500', 'model=silhouette',\n",
       "       'model=silver_seraph', 'model=silverado_1500',\n",
       "       'model=silverado_1500_classic', 'model=silverado_1500_hybrid',\n",
       "       'model=sixty_special', 'model=skylark', 'model=sl-class',\n",
       "       'model=slc-class', 'model=slk-class', 'model=slr_mclaren',\n",
       "       'model=sls_amg', 'model=sls_amg_gt',\n",
       "       'model=sls_amg_gt_final_edition', 'model=solstice', 'model=sonata',\n",
       "       'model=sonata_hybrid', 'model=sonic', 'model=sonoma',\n",
       "       'model=sorento', 'model=soul', 'model=soul_ev', 'model=spark',\n",
       "       'model=spark_ev', 'model=spectra', 'model=spirit',\n",
       "       'model=sportage', 'model=sportvan', 'model=spyder', 'model=sq5',\n",
       "       'model=srt_viper', 'model=srx', 'model=ss', 'model=ssr',\n",
       "       'model=stanza', 'model=stealth', 'model=stratus', 'model=sts',\n",
       "       'model=sts-v', 'model=suburban', 'model=sunbird', 'model=sundance',\n",
       "       'model=sunfire', 'model=superamerica', 'model=supra', 'model=svx',\n",
       "       'model=swift', 'model=sx4', 'model=syclone', 'model=t100',\n",
       "       'model=tacoma', 'model=tahoe', 'model=tahoe_hybrid',\n",
       "       'model=tahoe_limited/z71', 'model=taurus', 'model=taurus_x',\n",
       "       'model=tc', 'model=tempo', 'model=tercel', 'model=terrain',\n",
       "       'model=terraza', 'model=thunderbird', 'model=tiburon',\n",
       "       'model=tiguan', 'model=titan', 'model=tl', 'model=tlx',\n",
       "       'model=toronado', 'model=torrent', 'model=touareg',\n",
       "       'model=touareg_2', 'model=town_and_country', 'model=town_car',\n",
       "       'model=tracker', 'model=trailblazer', 'model=trailblazer_ext',\n",
       "       'model=trans_sport', 'model=transit_connect',\n",
       "       'model=transit_wagon', 'model=traverse', 'model=trax',\n",
       "       'model=tribeca', 'model=tribute', 'model=tribute_hybrid',\n",
       "       'model=truck', 'model=tsx', 'model=tsx_sport_wagon', 'model=tt',\n",
       "       'model=tt_rs', 'model=tts', 'model=tucson', 'model=tundra',\n",
       "       'model=typhoon', 'model=uplander', 'model=v12_vanquish',\n",
       "       'model=v12_vantage', 'model=v12_vantage_s', 'model=v40',\n",
       "       'model=v50', 'model=v60', 'model=v60_cross_country', 'model=v70',\n",
       "       'model=v8', 'model=v8_vantage', 'model=v90', 'model=van',\n",
       "       'model=vanagon', 'model=vandura', 'model=vanquish',\n",
       "       'model=vanwagon', 'model=veloster', 'model=venture', 'model=venza',\n",
       "       'model=veracruz', 'model=verano', 'model=verona', 'model=versa',\n",
       "       'model=versa_note', 'model=veyron_16.4', 'model=vibe',\n",
       "       'model=vigor', 'model=viper', 'model=virage', 'model=vitara',\n",
       "       'model=voyager', 'model=windstar', 'model=windstar_cargo',\n",
       "       'model=wrx', 'model=x-90', 'model=x1', 'model=x3', 'model=x4',\n",
       "       'model=x5', 'model=x5_m', 'model=x6', 'model=x6_m', 'model=xa',\n",
       "       'model=xb', 'model=xc', 'model=xc60', 'model=xc70', 'model=xc90',\n",
       "       'model=xd', 'model=xg350', 'model=xl-7', 'model=xl7', 'model=xlr',\n",
       "       'model=xlr-v', 'model=xt', 'model=xt5', 'model=xterra',\n",
       "       'model=xts', 'model=xv_crosstrek', 'model=yaris', 'model=yaris_ia',\n",
       "       'model=yukon', 'model=yukon_denali', 'model=yukon_hybrid',\n",
       "       'model=yukon_xl', 'model=z3', 'model=z4', 'model=z4_m', 'model=z8',\n",
       "       'model=zdx', 'transmission_type=automated_manual',\n",
       "       'transmission_type=automatic', 'transmission_type=direct_drive',\n",
       "       'transmission_type=manual', 'transmission_type=unknown',\n",
       "       'vehicle_style=2dr_hatchback', 'vehicle_style=2dr_suv',\n",
       "       'vehicle_style=4dr_hatchback', 'vehicle_style=4dr_suv',\n",
       "       'vehicle_style=cargo_minivan', 'vehicle_style=cargo_van',\n",
       "       'vehicle_style=convertible', 'vehicle_style=convertible_suv',\n",
       "       'vehicle_style=coupe', 'vehicle_style=crew_cab_pickup',\n",
       "       'vehicle_style=extended_cab_pickup',\n",
       "       'vehicle_style=passenger_minivan', 'vehicle_style=passenger_van',\n",
       "       'vehicle_style=regular_cab_pickup', 'vehicle_style=sedan',\n",
       "       'vehicle_style=wagon', 'year'], dtype=object)"
      ]
     },
     "execution_count": 36,
     "metadata": {},
     "output_type": "execute_result"
    }
   ],
   "source": [
    "dv.get_feature_names_out()"
   ]
  },
  {
   "cell_type": "code",
   "execution_count": 37,
   "id": "adc65def",
   "metadata": {},
   "outputs": [],
   "source": [
    "import math"
   ]
  },
  {
   "cell_type": "code",
   "execution_count": 38,
   "id": "1c09ce80",
   "metadata": {},
   "outputs": [],
   "source": [
    "def sigmoid (score):\n",
    "    return 1/ (1 + math.exp(-score))"
   ]
  },
  {
   "cell_type": "code",
   "execution_count": 39,
   "id": "93d2f9de",
   "metadata": {},
   "outputs": [],
   "source": [
    "def lineer_regression(xi):\n",
    "    result = bias\n",
    "    for j in range(n):\n",
    "        result = result + xi[j] * w[j]\n",
    "    return result\n",
    "\n",
    "    "
   ]
  },
  {
   "cell_type": "code",
   "execution_count": 40,
   "id": "52b468ea",
   "metadata": {},
   "outputs": [],
   "source": [
    "def logistic_regression(xi):\n",
    "    score = bias\n",
    "    for j in range (n):\n",
    "        score = score + xi[j] * wi[j]\n",
    "    prob = sigmoid(score)\n",
    "    return prob\n"
   ]
  },
  {
   "cell_type": "code",
   "execution_count": 41,
   "id": "be58461c",
   "metadata": {},
   "outputs": [],
   "source": [
    "from sklearn.linear_model import LogisticRegression"
   ]
  },
  {
   "cell_type": "code",
   "execution_count": 42,
   "id": "4ed7ec7a",
   "metadata": {},
   "outputs": [],
   "source": [
    "model = LogisticRegression(solver='liblinear',C= 10,max_iter=1000, random_state=42)"
   ]
  },
  {
   "cell_type": "code",
   "execution_count": 43,
   "id": "66d69797",
   "metadata": {},
   "outputs": [
    {
     "data": {
      "text/plain": [
       "(7148, 959)"
      ]
     },
     "execution_count": 43,
     "metadata": {},
     "output_type": "execute_result"
    }
   ],
   "source": [
    "X_train.shape"
   ]
  },
  {
   "cell_type": "code",
   "execution_count": 44,
   "id": "b2852bf2",
   "metadata": {},
   "outputs": [
    {
     "data": {
      "text/plain": [
       "(7148,)"
      ]
     },
     "execution_count": 44,
     "metadata": {},
     "output_type": "execute_result"
    }
   ],
   "source": [
    "y_train.shape"
   ]
  },
  {
   "cell_type": "code",
   "execution_count": 45,
   "id": "a81687ff",
   "metadata": {},
   "outputs": [
    {
     "data": {
      "text/html": [
       "<style>#sk-container-id-2 {color: black;}#sk-container-id-2 pre{padding: 0;}#sk-container-id-2 div.sk-toggleable {background-color: white;}#sk-container-id-2 label.sk-toggleable__label {cursor: pointer;display: block;width: 100%;margin-bottom: 0;padding: 0.3em;box-sizing: border-box;text-align: center;}#sk-container-id-2 label.sk-toggleable__label-arrow:before {content: \"▸\";float: left;margin-right: 0.25em;color: #696969;}#sk-container-id-2 label.sk-toggleable__label-arrow:hover:before {color: black;}#sk-container-id-2 div.sk-estimator:hover label.sk-toggleable__label-arrow:before {color: black;}#sk-container-id-2 div.sk-toggleable__content {max-height: 0;max-width: 0;overflow: hidden;text-align: left;background-color: #f0f8ff;}#sk-container-id-2 div.sk-toggleable__content pre {margin: 0.2em;color: black;border-radius: 0.25em;background-color: #f0f8ff;}#sk-container-id-2 input.sk-toggleable__control:checked~div.sk-toggleable__content {max-height: 200px;max-width: 100%;overflow: auto;}#sk-container-id-2 input.sk-toggleable__control:checked~label.sk-toggleable__label-arrow:before {content: \"▾\";}#sk-container-id-2 div.sk-estimator input.sk-toggleable__control:checked~label.sk-toggleable__label {background-color: #d4ebff;}#sk-container-id-2 div.sk-label input.sk-toggleable__control:checked~label.sk-toggleable__label {background-color: #d4ebff;}#sk-container-id-2 input.sk-hidden--visually {border: 0;clip: rect(1px 1px 1px 1px);clip: rect(1px, 1px, 1px, 1px);height: 1px;margin: -1px;overflow: hidden;padding: 0;position: absolute;width: 1px;}#sk-container-id-2 div.sk-estimator {font-family: monospace;background-color: #f0f8ff;border: 1px dotted black;border-radius: 0.25em;box-sizing: border-box;margin-bottom: 0.5em;}#sk-container-id-2 div.sk-estimator:hover {background-color: #d4ebff;}#sk-container-id-2 div.sk-parallel-item::after {content: \"\";width: 100%;border-bottom: 1px solid gray;flex-grow: 1;}#sk-container-id-2 div.sk-label:hover label.sk-toggleable__label {background-color: #d4ebff;}#sk-container-id-2 div.sk-serial::before {content: \"\";position: absolute;border-left: 1px solid gray;box-sizing: border-box;top: 0;bottom: 0;left: 50%;z-index: 0;}#sk-container-id-2 div.sk-serial {display: flex;flex-direction: column;align-items: center;background-color: white;padding-right: 0.2em;padding-left: 0.2em;position: relative;}#sk-container-id-2 div.sk-item {position: relative;z-index: 1;}#sk-container-id-2 div.sk-parallel {display: flex;align-items: stretch;justify-content: center;background-color: white;position: relative;}#sk-container-id-2 div.sk-item::before, #sk-container-id-2 div.sk-parallel-item::before {content: \"\";position: absolute;border-left: 1px solid gray;box-sizing: border-box;top: 0;bottom: 0;left: 50%;z-index: -1;}#sk-container-id-2 div.sk-parallel-item {display: flex;flex-direction: column;z-index: 1;position: relative;background-color: white;}#sk-container-id-2 div.sk-parallel-item:first-child::after {align-self: flex-end;width: 50%;}#sk-container-id-2 div.sk-parallel-item:last-child::after {align-self: flex-start;width: 50%;}#sk-container-id-2 div.sk-parallel-item:only-child::after {width: 0;}#sk-container-id-2 div.sk-dashed-wrapped {border: 1px dashed gray;margin: 0 0.4em 0.5em 0.4em;box-sizing: border-box;padding-bottom: 0.4em;background-color: white;}#sk-container-id-2 div.sk-label label {font-family: monospace;font-weight: bold;display: inline-block;line-height: 1.2em;}#sk-container-id-2 div.sk-label-container {text-align: center;}#sk-container-id-2 div.sk-container {/* jupyter's `normalize.less` sets `[hidden] { display: none; }` but bootstrap.min.css set `[hidden] { display: none !important; }` so we also need the `!important` here to be able to override the default hidden behavior on the sphinx rendered scikit-learn.org. See: https://github.com/scikit-learn/scikit-learn/issues/21755 */display: inline-block !important;position: relative;}#sk-container-id-2 div.sk-text-repr-fallback {display: none;}</style><div id=\"sk-container-id-2\" class=\"sk-top-container\"><div class=\"sk-text-repr-fallback\"><pre>LogisticRegression(C=10, max_iter=1000, random_state=42, solver=&#x27;liblinear&#x27;)</pre><b>In a Jupyter environment, please rerun this cell to show the HTML representation or trust the notebook. <br />On GitHub, the HTML representation is unable to render, please try loading this page with nbviewer.org.</b></div><div class=\"sk-container\" hidden><div class=\"sk-item\"><div class=\"sk-estimator sk-toggleable\"><input class=\"sk-toggleable__control sk-hidden--visually\" id=\"sk-estimator-id-2\" type=\"checkbox\" checked><label for=\"sk-estimator-id-2\" class=\"sk-toggleable__label sk-toggleable__label-arrow\">LogisticRegression</label><div class=\"sk-toggleable__content\"><pre>LogisticRegression(C=10, max_iter=1000, random_state=42, solver=&#x27;liblinear&#x27;)</pre></div></div></div></div></div>"
      ],
      "text/plain": [
       "LogisticRegression(C=10, max_iter=1000, random_state=42, solver='liblinear')"
      ]
     },
     "execution_count": 45,
     "metadata": {},
     "output_type": "execute_result"
    }
   ],
   "source": [
    "model.fit(X_train,y_train)"
   ]
  },
  {
   "cell_type": "code",
   "execution_count": 46,
   "id": "babec727",
   "metadata": {},
   "outputs": [
    {
     "data": {
      "text/plain": [
       "Index(['make', 'model', 'year', 'engine_hp', 'engine_cylinders',\n",
       "       'transmission_type', 'vehicle_style', 'highway_mpg', 'city_mpg'],\n",
       "      dtype='object')"
      ]
     },
     "execution_count": 46,
     "metadata": {},
     "output_type": "execute_result"
    }
   ],
   "source": [
    "df_val.columns"
   ]
  },
  {
   "cell_type": "code",
   "execution_count": 47,
   "id": "c5f34771",
   "metadata": {},
   "outputs": [],
   "source": [
    "val_dict = df_val.to_dict(orient='records')\n",
    "X_val = dv.transform(val_dict)"
   ]
  },
  {
   "cell_type": "code",
   "execution_count": 48,
   "id": "68553232",
   "metadata": {},
   "outputs": [],
   "source": [
    "y_pred = model.predict_proba(X_val)"
   ]
  },
  {
   "cell_type": "code",
   "execution_count": 49,
   "id": "366e4865",
   "metadata": {},
   "outputs": [],
   "source": [
    "y_pred = model.predict_proba(X_val)[:,1]"
   ]
  },
  {
   "cell_type": "code",
   "execution_count": 50,
   "id": "118aff8f",
   "metadata": {},
   "outputs": [],
   "source": [
    "output1 = y_pred > 0.5"
   ]
  },
  {
   "cell_type": "code",
   "execution_count": 51,
   "id": "6c99fa57",
   "metadata": {},
   "outputs": [
    {
     "data": {
      "text/plain": [
       "0.93"
      ]
     },
     "execution_count": 51,
     "metadata": {},
     "output_type": "execute_result"
    }
   ],
   "source": [
    "np.round((y_val == output1).mean(),2)"
   ]
  },
  {
   "cell_type": "markdown",
   "id": "87f96ce4",
   "metadata": {},
   "source": [
    "## Answer 4 = 0.94 ~0.95"
   ]
  },
  {
   "cell_type": "markdown",
   "id": "8b4ceb96",
   "metadata": {},
   "source": [
    "## Question 5 \n",
    "\n",
    "Let's find the least useful feature using the feature elimination technique.\n",
    "Train a model with all these features (using the same parameters as in Q4).\n",
    "Now exclude each feature from this set and train a model without it. Record the accuracy for each model.\n",
    "For each feature, calculate the difference between the original accuracy and the accuracy without the feature.\n",
    "Which of following feature has the smallest difference?"
   ]
  },
  {
   "cell_type": "code",
   "execution_count": 52,
   "id": "80cd01f0",
   "metadata": {},
   "outputs": [],
   "source": [
    "q5_subset = ['year', 'engine_hp', 'transmission_type', 'city_mpg' ]"
   ]
  },
  {
   "cell_type": "code",
   "execution_count": 53,
   "id": "35312c1d",
   "metadata": {},
   "outputs": [],
   "source": [
    "train_dict_q5 = df_train[q5_subset].to_dict(orient='records')"
   ]
  },
  {
   "cell_type": "code",
   "execution_count": 54,
   "id": "dd171f2d",
   "metadata": {},
   "outputs": [],
   "source": [
    "dv_q5 = DictVectorizer(sparse= False)"
   ]
  },
  {
   "cell_type": "code",
   "execution_count": 55,
   "id": "10f929be",
   "metadata": {},
   "outputs": [
    {
     "data": {
      "text/html": [
       "<style>#sk-container-id-3 {color: black;}#sk-container-id-3 pre{padding: 0;}#sk-container-id-3 div.sk-toggleable {background-color: white;}#sk-container-id-3 label.sk-toggleable__label {cursor: pointer;display: block;width: 100%;margin-bottom: 0;padding: 0.3em;box-sizing: border-box;text-align: center;}#sk-container-id-3 label.sk-toggleable__label-arrow:before {content: \"▸\";float: left;margin-right: 0.25em;color: #696969;}#sk-container-id-3 label.sk-toggleable__label-arrow:hover:before {color: black;}#sk-container-id-3 div.sk-estimator:hover label.sk-toggleable__label-arrow:before {color: black;}#sk-container-id-3 div.sk-toggleable__content {max-height: 0;max-width: 0;overflow: hidden;text-align: left;background-color: #f0f8ff;}#sk-container-id-3 div.sk-toggleable__content pre {margin: 0.2em;color: black;border-radius: 0.25em;background-color: #f0f8ff;}#sk-container-id-3 input.sk-toggleable__control:checked~div.sk-toggleable__content {max-height: 200px;max-width: 100%;overflow: auto;}#sk-container-id-3 input.sk-toggleable__control:checked~label.sk-toggleable__label-arrow:before {content: \"▾\";}#sk-container-id-3 div.sk-estimator input.sk-toggleable__control:checked~label.sk-toggleable__label {background-color: #d4ebff;}#sk-container-id-3 div.sk-label input.sk-toggleable__control:checked~label.sk-toggleable__label {background-color: #d4ebff;}#sk-container-id-3 input.sk-hidden--visually {border: 0;clip: rect(1px 1px 1px 1px);clip: rect(1px, 1px, 1px, 1px);height: 1px;margin: -1px;overflow: hidden;padding: 0;position: absolute;width: 1px;}#sk-container-id-3 div.sk-estimator {font-family: monospace;background-color: #f0f8ff;border: 1px dotted black;border-radius: 0.25em;box-sizing: border-box;margin-bottom: 0.5em;}#sk-container-id-3 div.sk-estimator:hover {background-color: #d4ebff;}#sk-container-id-3 div.sk-parallel-item::after {content: \"\";width: 100%;border-bottom: 1px solid gray;flex-grow: 1;}#sk-container-id-3 div.sk-label:hover label.sk-toggleable__label {background-color: #d4ebff;}#sk-container-id-3 div.sk-serial::before {content: \"\";position: absolute;border-left: 1px solid gray;box-sizing: border-box;top: 0;bottom: 0;left: 50%;z-index: 0;}#sk-container-id-3 div.sk-serial {display: flex;flex-direction: column;align-items: center;background-color: white;padding-right: 0.2em;padding-left: 0.2em;position: relative;}#sk-container-id-3 div.sk-item {position: relative;z-index: 1;}#sk-container-id-3 div.sk-parallel {display: flex;align-items: stretch;justify-content: center;background-color: white;position: relative;}#sk-container-id-3 div.sk-item::before, #sk-container-id-3 div.sk-parallel-item::before {content: \"\";position: absolute;border-left: 1px solid gray;box-sizing: border-box;top: 0;bottom: 0;left: 50%;z-index: -1;}#sk-container-id-3 div.sk-parallel-item {display: flex;flex-direction: column;z-index: 1;position: relative;background-color: white;}#sk-container-id-3 div.sk-parallel-item:first-child::after {align-self: flex-end;width: 50%;}#sk-container-id-3 div.sk-parallel-item:last-child::after {align-self: flex-start;width: 50%;}#sk-container-id-3 div.sk-parallel-item:only-child::after {width: 0;}#sk-container-id-3 div.sk-dashed-wrapped {border: 1px dashed gray;margin: 0 0.4em 0.5em 0.4em;box-sizing: border-box;padding-bottom: 0.4em;background-color: white;}#sk-container-id-3 div.sk-label label {font-family: monospace;font-weight: bold;display: inline-block;line-height: 1.2em;}#sk-container-id-3 div.sk-label-container {text-align: center;}#sk-container-id-3 div.sk-container {/* jupyter's `normalize.less` sets `[hidden] { display: none; }` but bootstrap.min.css set `[hidden] { display: none !important; }` so we also need the `!important` here to be able to override the default hidden behavior on the sphinx rendered scikit-learn.org. See: https://github.com/scikit-learn/scikit-learn/issues/21755 */display: inline-block !important;position: relative;}#sk-container-id-3 div.sk-text-repr-fallback {display: none;}</style><div id=\"sk-container-id-3\" class=\"sk-top-container\"><div class=\"sk-text-repr-fallback\"><pre>DictVectorizer(sparse=False)</pre><b>In a Jupyter environment, please rerun this cell to show the HTML representation or trust the notebook. <br />On GitHub, the HTML representation is unable to render, please try loading this page with nbviewer.org.</b></div><div class=\"sk-container\" hidden><div class=\"sk-item\"><div class=\"sk-estimator sk-toggleable\"><input class=\"sk-toggleable__control sk-hidden--visually\" id=\"sk-estimator-id-3\" type=\"checkbox\" checked><label for=\"sk-estimator-id-3\" class=\"sk-toggleable__label sk-toggleable__label-arrow\">DictVectorizer</label><div class=\"sk-toggleable__content\"><pre>DictVectorizer(sparse=False)</pre></div></div></div></div></div>"
      ],
      "text/plain": [
       "DictVectorizer(sparse=False)"
      ]
     },
     "execution_count": 55,
     "metadata": {},
     "output_type": "execute_result"
    }
   ],
   "source": [
    "dv_q5.fit(train_dict_q5)"
   ]
  },
  {
   "cell_type": "code",
   "execution_count": 56,
   "id": "a060acad",
   "metadata": {},
   "outputs": [],
   "source": [
    "X_q5_train = dv_q5.transform(train_dict_q5)"
   ]
  },
  {
   "cell_type": "code",
   "execution_count": 57,
   "id": "e85d8335",
   "metadata": {},
   "outputs": [
    {
     "data": {
      "text/plain": [
       "array(['city_mpg', 'engine_hp', 'transmission_type=automated_manual',\n",
       "       'transmission_type=automatic', 'transmission_type=direct_drive',\n",
       "       'transmission_type=manual', 'transmission_type=unknown', 'year'],\n",
       "      dtype=object)"
      ]
     },
     "execution_count": 57,
     "metadata": {},
     "output_type": "execute_result"
    }
   ],
   "source": [
    "dv_q5.get_feature_names_out()"
   ]
  },
  {
   "cell_type": "code",
   "execution_count": 58,
   "id": "263317e8",
   "metadata": {},
   "outputs": [],
   "source": [
    "model_q5 = LogisticRegression(solver='liblinear',C= 10,max_iter=1000, random_state=42)"
   ]
  },
  {
   "cell_type": "code",
   "execution_count": 59,
   "id": "44788939",
   "metadata": {},
   "outputs": [
    {
     "data": {
      "text/html": [
       "<style>#sk-container-id-4 {color: black;}#sk-container-id-4 pre{padding: 0;}#sk-container-id-4 div.sk-toggleable {background-color: white;}#sk-container-id-4 label.sk-toggleable__label {cursor: pointer;display: block;width: 100%;margin-bottom: 0;padding: 0.3em;box-sizing: border-box;text-align: center;}#sk-container-id-4 label.sk-toggleable__label-arrow:before {content: \"▸\";float: left;margin-right: 0.25em;color: #696969;}#sk-container-id-4 label.sk-toggleable__label-arrow:hover:before {color: black;}#sk-container-id-4 div.sk-estimator:hover label.sk-toggleable__label-arrow:before {color: black;}#sk-container-id-4 div.sk-toggleable__content {max-height: 0;max-width: 0;overflow: hidden;text-align: left;background-color: #f0f8ff;}#sk-container-id-4 div.sk-toggleable__content pre {margin: 0.2em;color: black;border-radius: 0.25em;background-color: #f0f8ff;}#sk-container-id-4 input.sk-toggleable__control:checked~div.sk-toggleable__content {max-height: 200px;max-width: 100%;overflow: auto;}#sk-container-id-4 input.sk-toggleable__control:checked~label.sk-toggleable__label-arrow:before {content: \"▾\";}#sk-container-id-4 div.sk-estimator input.sk-toggleable__control:checked~label.sk-toggleable__label {background-color: #d4ebff;}#sk-container-id-4 div.sk-label input.sk-toggleable__control:checked~label.sk-toggleable__label {background-color: #d4ebff;}#sk-container-id-4 input.sk-hidden--visually {border: 0;clip: rect(1px 1px 1px 1px);clip: rect(1px, 1px, 1px, 1px);height: 1px;margin: -1px;overflow: hidden;padding: 0;position: absolute;width: 1px;}#sk-container-id-4 div.sk-estimator {font-family: monospace;background-color: #f0f8ff;border: 1px dotted black;border-radius: 0.25em;box-sizing: border-box;margin-bottom: 0.5em;}#sk-container-id-4 div.sk-estimator:hover {background-color: #d4ebff;}#sk-container-id-4 div.sk-parallel-item::after {content: \"\";width: 100%;border-bottom: 1px solid gray;flex-grow: 1;}#sk-container-id-4 div.sk-label:hover label.sk-toggleable__label {background-color: #d4ebff;}#sk-container-id-4 div.sk-serial::before {content: \"\";position: absolute;border-left: 1px solid gray;box-sizing: border-box;top: 0;bottom: 0;left: 50%;z-index: 0;}#sk-container-id-4 div.sk-serial {display: flex;flex-direction: column;align-items: center;background-color: white;padding-right: 0.2em;padding-left: 0.2em;position: relative;}#sk-container-id-4 div.sk-item {position: relative;z-index: 1;}#sk-container-id-4 div.sk-parallel {display: flex;align-items: stretch;justify-content: center;background-color: white;position: relative;}#sk-container-id-4 div.sk-item::before, #sk-container-id-4 div.sk-parallel-item::before {content: \"\";position: absolute;border-left: 1px solid gray;box-sizing: border-box;top: 0;bottom: 0;left: 50%;z-index: -1;}#sk-container-id-4 div.sk-parallel-item {display: flex;flex-direction: column;z-index: 1;position: relative;background-color: white;}#sk-container-id-4 div.sk-parallel-item:first-child::after {align-self: flex-end;width: 50%;}#sk-container-id-4 div.sk-parallel-item:last-child::after {align-self: flex-start;width: 50%;}#sk-container-id-4 div.sk-parallel-item:only-child::after {width: 0;}#sk-container-id-4 div.sk-dashed-wrapped {border: 1px dashed gray;margin: 0 0.4em 0.5em 0.4em;box-sizing: border-box;padding-bottom: 0.4em;background-color: white;}#sk-container-id-4 div.sk-label label {font-family: monospace;font-weight: bold;display: inline-block;line-height: 1.2em;}#sk-container-id-4 div.sk-label-container {text-align: center;}#sk-container-id-4 div.sk-container {/* jupyter's `normalize.less` sets `[hidden] { display: none; }` but bootstrap.min.css set `[hidden] { display: none !important; }` so we also need the `!important` here to be able to override the default hidden behavior on the sphinx rendered scikit-learn.org. See: https://github.com/scikit-learn/scikit-learn/issues/21755 */display: inline-block !important;position: relative;}#sk-container-id-4 div.sk-text-repr-fallback {display: none;}</style><div id=\"sk-container-id-4\" class=\"sk-top-container\"><div class=\"sk-text-repr-fallback\"><pre>LogisticRegression(C=10, max_iter=1000, random_state=42, solver=&#x27;liblinear&#x27;)</pre><b>In a Jupyter environment, please rerun this cell to show the HTML representation or trust the notebook. <br />On GitHub, the HTML representation is unable to render, please try loading this page with nbviewer.org.</b></div><div class=\"sk-container\" hidden><div class=\"sk-item\"><div class=\"sk-estimator sk-toggleable\"><input class=\"sk-toggleable__control sk-hidden--visually\" id=\"sk-estimator-id-4\" type=\"checkbox\" checked><label for=\"sk-estimator-id-4\" class=\"sk-toggleable__label sk-toggleable__label-arrow\">LogisticRegression</label><div class=\"sk-toggleable__content\"><pre>LogisticRegression(C=10, max_iter=1000, random_state=42, solver=&#x27;liblinear&#x27;)</pre></div></div></div></div></div>"
      ],
      "text/plain": [
       "LogisticRegression(C=10, max_iter=1000, random_state=42, solver='liblinear')"
      ]
     },
     "execution_count": 59,
     "metadata": {},
     "output_type": "execute_result"
    }
   ],
   "source": [
    "model_q5.fit(X_q5_train,y_train)"
   ]
  },
  {
   "cell_type": "code",
   "execution_count": 60,
   "id": "2c600844",
   "metadata": {},
   "outputs": [
    {
     "data": {
      "text/plain": [
       "-0.01419551298858486"
      ]
     },
     "execution_count": 60,
     "metadata": {},
     "output_type": "execute_result"
    }
   ],
   "source": [
    "model_q5.intercept_[0]"
   ]
  },
  {
   "cell_type": "code",
   "execution_count": 61,
   "id": "b2f9759d",
   "metadata": {},
   "outputs": [
    {
     "data": {
      "text/plain": [
       "{'city_mpg': 0.018,\n",
       " 'engine_hp': -0.034,\n",
       " 'transmission_type=automated_manual': 0.036,\n",
       " 'transmission_type=automatic': 0.088,\n",
       " 'transmission_type=direct_drive': 1.12,\n",
       " 'transmission_type=manual': 0.363,\n",
       " 'transmission_type=unknown': 0.185,\n",
       " 'year': 2.268}"
      ]
     },
     "execution_count": 61,
     "metadata": {},
     "output_type": "execute_result"
    }
   ],
   "source": [
    "dict(zip(dv_q5.get_feature_names_out(), model.coef_[0].round(3)))"
   ]
  },
  {
   "cell_type": "markdown",
   "id": "334c150d",
   "metadata": {},
   "source": [
    "## Answer 5: City_mpg"
   ]
  },
  {
   "cell_type": "markdown",
   "id": "337f5a13",
   "metadata": {},
   "source": [
    "## Question6 \n",
    "\n",
    "* For this question, we'll see how to use a linear regression model from Scikit-Learn.\n",
    "* We'll need to use the original column price. Apply the logarithmic transformation to this column.\n",
    "* Fit the Ridge regression model on the training data with a solver 'sag'. Set the seed to 42.\n",
    "* This model also has a parameter alpha. Let's try the following values: [0, 0.01, 0.1, 1, 10].\n",
    "* Round your RMSE scores to 3 decimal digits.\n"
   ]
  },
  {
   "cell_type": "code",
   "execution_count": 62,
   "id": "b6f2c7ea",
   "metadata": {},
   "outputs": [],
   "source": [
    "from sklearn.linear_model import Ridge"
   ]
  },
  {
   "cell_type": "code",
   "execution_count": 63,
   "id": "db00abc5",
   "metadata": {},
   "outputs": [],
   "source": [
    "df.price = np.log1p(df.price)"
   ]
  },
  {
   "cell_type": "code",
   "execution_count": 64,
   "id": "f8a6d9c8",
   "metadata": {},
   "outputs": [],
   "source": [
    "features = ['make', 'model', 'year', 'engine_hp','engine_cylinders', 'transmission_type', 'vehicle_style','highway_mpg', 'city_mpg', 'price']"
   ]
  },
  {
   "cell_type": "code",
   "execution_count": 65,
   "id": "8dd384a6",
   "metadata": {},
   "outputs": [],
   "source": [
    "q7_df = df[features]"
   ]
  },
  {
   "cell_type": "code",
   "execution_count": 66,
   "id": "ca30c0b3",
   "metadata": {},
   "outputs": [
    {
     "data": {
      "text/html": [
       "<div>\n",
       "<style scoped>\n",
       "    .dataframe tbody tr th:only-of-type {\n",
       "        vertical-align: middle;\n",
       "    }\n",
       "\n",
       "    .dataframe tbody tr th {\n",
       "        vertical-align: top;\n",
       "    }\n",
       "\n",
       "    .dataframe thead th {\n",
       "        text-align: right;\n",
       "    }\n",
       "</style>\n",
       "<table border=\"1\" class=\"dataframe\">\n",
       "  <thead>\n",
       "    <tr style=\"text-align: right;\">\n",
       "      <th></th>\n",
       "      <th>make</th>\n",
       "      <th>model</th>\n",
       "      <th>year</th>\n",
       "      <th>engine_hp</th>\n",
       "      <th>engine_cylinders</th>\n",
       "      <th>transmission_type</th>\n",
       "      <th>vehicle_style</th>\n",
       "      <th>highway_mpg</th>\n",
       "      <th>city_mpg</th>\n",
       "      <th>price</th>\n",
       "    </tr>\n",
       "  </thead>\n",
       "  <tbody>\n",
       "    <tr>\n",
       "      <th>0</th>\n",
       "      <td>bmw</td>\n",
       "      <td>1_series_m</td>\n",
       "      <td>2011</td>\n",
       "      <td>335.0</td>\n",
       "      <td>6.0</td>\n",
       "      <td>manual</td>\n",
       "      <td>coupe</td>\n",
       "      <td>26</td>\n",
       "      <td>19</td>\n",
       "      <td>10.739349</td>\n",
       "    </tr>\n",
       "    <tr>\n",
       "      <th>1</th>\n",
       "      <td>bmw</td>\n",
       "      <td>1_series</td>\n",
       "      <td>2011</td>\n",
       "      <td>300.0</td>\n",
       "      <td>6.0</td>\n",
       "      <td>manual</td>\n",
       "      <td>convertible</td>\n",
       "      <td>28</td>\n",
       "      <td>19</td>\n",
       "      <td>10.612779</td>\n",
       "    </tr>\n",
       "    <tr>\n",
       "      <th>2</th>\n",
       "      <td>bmw</td>\n",
       "      <td>1_series</td>\n",
       "      <td>2011</td>\n",
       "      <td>300.0</td>\n",
       "      <td>6.0</td>\n",
       "      <td>manual</td>\n",
       "      <td>coupe</td>\n",
       "      <td>28</td>\n",
       "      <td>20</td>\n",
       "      <td>10.500977</td>\n",
       "    </tr>\n",
       "    <tr>\n",
       "      <th>3</th>\n",
       "      <td>bmw</td>\n",
       "      <td>1_series</td>\n",
       "      <td>2011</td>\n",
       "      <td>230.0</td>\n",
       "      <td>6.0</td>\n",
       "      <td>manual</td>\n",
       "      <td>coupe</td>\n",
       "      <td>28</td>\n",
       "      <td>18</td>\n",
       "      <td>10.290483</td>\n",
       "    </tr>\n",
       "    <tr>\n",
       "      <th>4</th>\n",
       "      <td>bmw</td>\n",
       "      <td>1_series</td>\n",
       "      <td>2011</td>\n",
       "      <td>230.0</td>\n",
       "      <td>6.0</td>\n",
       "      <td>manual</td>\n",
       "      <td>convertible</td>\n",
       "      <td>28</td>\n",
       "      <td>18</td>\n",
       "      <td>10.448744</td>\n",
       "    </tr>\n",
       "    <tr>\n",
       "      <th>...</th>\n",
       "      <td>...</td>\n",
       "      <td>...</td>\n",
       "      <td>...</td>\n",
       "      <td>...</td>\n",
       "      <td>...</td>\n",
       "      <td>...</td>\n",
       "      <td>...</td>\n",
       "      <td>...</td>\n",
       "      <td>...</td>\n",
       "      <td>...</td>\n",
       "    </tr>\n",
       "    <tr>\n",
       "      <th>11909</th>\n",
       "      <td>acura</td>\n",
       "      <td>zdx</td>\n",
       "      <td>2012</td>\n",
       "      <td>300.0</td>\n",
       "      <td>6.0</td>\n",
       "      <td>automatic</td>\n",
       "      <td>4dr_hatchback</td>\n",
       "      <td>23</td>\n",
       "      <td>16</td>\n",
       "      <td>10.739024</td>\n",
       "    </tr>\n",
       "    <tr>\n",
       "      <th>11910</th>\n",
       "      <td>acura</td>\n",
       "      <td>zdx</td>\n",
       "      <td>2012</td>\n",
       "      <td>300.0</td>\n",
       "      <td>6.0</td>\n",
       "      <td>automatic</td>\n",
       "      <td>4dr_hatchback</td>\n",
       "      <td>23</td>\n",
       "      <td>16</td>\n",
       "      <td>10.945018</td>\n",
       "    </tr>\n",
       "    <tr>\n",
       "      <th>11911</th>\n",
       "      <td>acura</td>\n",
       "      <td>zdx</td>\n",
       "      <td>2012</td>\n",
       "      <td>300.0</td>\n",
       "      <td>6.0</td>\n",
       "      <td>automatic</td>\n",
       "      <td>4dr_hatchback</td>\n",
       "      <td>23</td>\n",
       "      <td>16</td>\n",
       "      <td>10.832122</td>\n",
       "    </tr>\n",
       "    <tr>\n",
       "      <th>11912</th>\n",
       "      <td>acura</td>\n",
       "      <td>zdx</td>\n",
       "      <td>2013</td>\n",
       "      <td>300.0</td>\n",
       "      <td>6.0</td>\n",
       "      <td>automatic</td>\n",
       "      <td>4dr_hatchback</td>\n",
       "      <td>23</td>\n",
       "      <td>16</td>\n",
       "      <td>10.838031</td>\n",
       "    </tr>\n",
       "    <tr>\n",
       "      <th>11913</th>\n",
       "      <td>lincoln</td>\n",
       "      <td>zephyr</td>\n",
       "      <td>2006</td>\n",
       "      <td>221.0</td>\n",
       "      <td>6.0</td>\n",
       "      <td>automatic</td>\n",
       "      <td>sedan</td>\n",
       "      <td>26</td>\n",
       "      <td>17</td>\n",
       "      <td>10.274913</td>\n",
       "    </tr>\n",
       "  </tbody>\n",
       "</table>\n",
       "<p>11914 rows × 10 columns</p>\n",
       "</div>"
      ],
      "text/plain": [
       "          make       model  year  engine_hp  engine_cylinders  \\\n",
       "0          bmw  1_series_m  2011      335.0               6.0   \n",
       "1          bmw    1_series  2011      300.0               6.0   \n",
       "2          bmw    1_series  2011      300.0               6.0   \n",
       "3          bmw    1_series  2011      230.0               6.0   \n",
       "4          bmw    1_series  2011      230.0               6.0   \n",
       "...        ...         ...   ...        ...               ...   \n",
       "11909    acura         zdx  2012      300.0               6.0   \n",
       "11910    acura         zdx  2012      300.0               6.0   \n",
       "11911    acura         zdx  2012      300.0               6.0   \n",
       "11912    acura         zdx  2013      300.0               6.0   \n",
       "11913  lincoln      zephyr  2006      221.0               6.0   \n",
       "\n",
       "      transmission_type  vehicle_style  highway_mpg  city_mpg      price  \n",
       "0                manual          coupe           26        19  10.739349  \n",
       "1                manual    convertible           28        19  10.612779  \n",
       "2                manual          coupe           28        20  10.500977  \n",
       "3                manual          coupe           28        18  10.290483  \n",
       "4                manual    convertible           28        18  10.448744  \n",
       "...                 ...            ...          ...       ...        ...  \n",
       "11909         automatic  4dr_hatchback           23        16  10.739024  \n",
       "11910         automatic  4dr_hatchback           23        16  10.945018  \n",
       "11911         automatic  4dr_hatchback           23        16  10.832122  \n",
       "11912         automatic  4dr_hatchback           23        16  10.838031  \n",
       "11913         automatic          sedan           26        17  10.274913  \n",
       "\n",
       "[11914 rows x 10 columns]"
      ]
     },
     "execution_count": 66,
     "metadata": {},
     "output_type": "execute_result"
    }
   ],
   "source": [
    "q7_df"
   ]
  },
  {
   "cell_type": "code",
   "execution_count": null,
   "id": "e285d895",
   "metadata": {},
   "outputs": [],
   "source": []
  },
  {
   "cell_type": "code",
   "execution_count": 67,
   "id": "c12ae6f0",
   "metadata": {},
   "outputs": [],
   "source": [
    "df_train, df_test = train_test_split(q7_df, test_size= 0.4, random_state=42)"
   ]
  },
  {
   "cell_type": "code",
   "execution_count": 68,
   "id": "c6fafdee",
   "metadata": {},
   "outputs": [],
   "source": [
    "df_val, df_test = train_test_split(df_test, test_size=0.5, random_state=42)"
   ]
  },
  {
   "cell_type": "code",
   "execution_count": 69,
   "id": "d74ef549",
   "metadata": {},
   "outputs": [
    {
     "data": {
      "text/plain": [
       "(7148, 2383, 2383)"
      ]
     },
     "execution_count": 69,
     "metadata": {},
     "output_type": "execute_result"
    }
   ],
   "source": [
    "len(df_train), len(df_test), len(df_val)"
   ]
  },
  {
   "cell_type": "code",
   "execution_count": 70,
   "id": "ff54d04e",
   "metadata": {},
   "outputs": [],
   "source": [
    "y_train = df_train['price']\n",
    "y_val = df_val['price']\n",
    "y_test = df_test['price']\n",
    "\n",
    "del df_train['price']\n",
    "del df_val['price']\n",
    "del df_test['price']"
   ]
  },
  {
   "cell_type": "code",
   "execution_count": 71,
   "id": "f8b606f6",
   "metadata": {},
   "outputs": [],
   "source": [
    "def rmse(y, y_pred):\n",
    "    error = y_pred -y\n",
    "    mse = (error ** 2).mean()\n",
    "    return np.sqrt(mse)"
   ]
  },
  {
   "cell_type": "code",
   "execution_count": 72,
   "id": "60ed2a21",
   "metadata": {},
   "outputs": [
    {
     "name": "stderr",
     "output_type": "stream",
     "text": [
      "C:\\Users\\WORK\\anaconda3\\Lib\\site-packages\\sklearn\\linear_model\\_sag.py:350: ConvergenceWarning: The max_iter was reached which means the coef_ did not converge\n",
      "  warnings.warn(\n"
     ]
    },
    {
     "name": "stdout",
     "output_type": "stream",
     "text": [
      "0.476\n",
      "\n"
     ]
    },
    {
     "name": "stderr",
     "output_type": "stream",
     "text": [
      "C:\\Users\\WORK\\anaconda3\\Lib\\site-packages\\sklearn\\linear_model\\_sag.py:350: ConvergenceWarning: The max_iter was reached which means the coef_ did not converge\n",
      "  warnings.warn(\n"
     ]
    },
    {
     "name": "stdout",
     "output_type": "stream",
     "text": [
      "0.476\n",
      "\n"
     ]
    },
    {
     "name": "stderr",
     "output_type": "stream",
     "text": [
      "C:\\Users\\WORK\\anaconda3\\Lib\\site-packages\\sklearn\\linear_model\\_sag.py:350: ConvergenceWarning: The max_iter was reached which means the coef_ did not converge\n",
      "  warnings.warn(\n"
     ]
    },
    {
     "name": "stdout",
     "output_type": "stream",
     "text": [
      "0.476\n",
      "\n"
     ]
    },
    {
     "name": "stderr",
     "output_type": "stream",
     "text": [
      "C:\\Users\\WORK\\anaconda3\\Lib\\site-packages\\sklearn\\linear_model\\_sag.py:350: ConvergenceWarning: The max_iter was reached which means the coef_ did not converge\n",
      "  warnings.warn(\n"
     ]
    },
    {
     "name": "stdout",
     "output_type": "stream",
     "text": [
      "0.476\n",
      "\n",
      "0.476\n",
      "\n"
     ]
    },
    {
     "name": "stderr",
     "output_type": "stream",
     "text": [
      "C:\\Users\\WORK\\anaconda3\\Lib\\site-packages\\sklearn\\linear_model\\_sag.py:350: ConvergenceWarning: The max_iter was reached which means the coef_ did not converge\n",
      "  warnings.warn(\n"
     ]
    }
   ],
   "source": [
    "for a in [0, 0.01, 0.1, 1, 10]:\n",
    "    ridge_model = Ridge(alpha = a, solver='sag', random_state=42)\n",
    "    train_dict = df_train.to_dict(orient='records')\n",
    "    dv = DictVectorizer(sparse=False)\n",
    "    dv.fit(train_dict)\n",
    "    X_train = dv.transform(train_dict)\n",
    "    ridge_model.fit(X_train,y_train)\n",
    "    val_dict = df_val.to_dict(orient='records')\n",
    "    X_val = dv.transform(val_dict)\n",
    "    y_pred = ridge_model.predict(X_val)\n",
    "    print(np.round(rmse(y_val,y_pred),3))\n",
    "    print()"
   ]
  },
  {
   "cell_type": "markdown",
   "id": "100d61ec",
   "metadata": {},
   "source": [
    "## answer is 0\n"
   ]
  },
  {
   "cell_type": "code",
   "execution_count": null,
   "id": "906be662",
   "metadata": {},
   "outputs": [],
   "source": []
  }
 ],
 "metadata": {
  "kernelspec": {
   "display_name": "Python 3 (ipykernel)",
   "language": "python",
   "name": "python3"
  },
  "language_info": {
   "codemirror_mode": {
    "name": "ipython",
    "version": 3
   },
   "file_extension": ".py",
   "mimetype": "text/x-python",
   "name": "python",
   "nbconvert_exporter": "python",
   "pygments_lexer": "ipython3",
   "version": "3.11.4"
  }
 },
 "nbformat": 4,
 "nbformat_minor": 5
}
