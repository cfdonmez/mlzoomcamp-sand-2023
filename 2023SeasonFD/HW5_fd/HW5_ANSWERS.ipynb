{
 "cells": [
  {
   "cell_type": "code",
   "execution_count": 1,
   "id": "7b0ea1fa",
   "metadata": {},
   "outputs": [
    {
     "name": "stdout",
     "output_type": "stream",
     "text": [
      "\u001b[1mpipenv\u001b[0m, version 2023.10.3\r\n"
     ]
    }
   ],
   "source": [
    "!pipenv --version"
   ]
  },
  {
   "cell_type": "markdown",
   "id": "01876df4",
   "metadata": {},
   "source": [
    "## ANSWER1 :  2023.10.3"
   ]
  },
  {
   "cell_type": "code",
   "execution_count": 2,
   "id": "de93e758",
   "metadata": {},
   "outputs": [],
   "source": [
    "import requests"
   ]
  },
  {
   "cell_type": "code",
   "execution_count": 4,
   "id": "044ef524",
   "metadata": {},
   "outputs": [],
   "source": [
    "PREFIX = \"https://raw.githubusercontent.com/DataTalksClub/machine-learning-zoomcamp/master/cohorts/2023/05-deployment/homework\"\n",
    "model_url = f\"{PREFIX}/model1.bin\"\n",
    "dv_url = f\"{PREFIX}/dv.bin\""
   ]
  },
  {
   "cell_type": "code",
   "execution_count": 5,
   "id": "a0b549eb",
   "metadata": {},
   "outputs": [],
   "source": [
    "def download_file(url, filename):\n",
    "    response = requests.get(url)\n",
    "    with open(filename, \"wb\") as file:\n",
    "        file.write(response.content)"
   ]
  },
  {
   "cell_type": "code",
   "execution_count": 6,
   "id": "c56861d8",
   "metadata": {},
   "outputs": [],
   "source": [
    "download_file(model_url, \"model1.bin\")\n"
   ]
  },
  {
   "cell_type": "code",
   "execution_count": 7,
   "id": "3a74872d",
   "metadata": {},
   "outputs": [],
   "source": [
    "download_file(dv_url, \"dv.bin\")\n"
   ]
  },
  {
   "cell_type": "code",
   "execution_count": 2,
   "id": "95025b69",
   "metadata": {},
   "outputs": [
    {
     "ename": "SyntaxError",
     "evalue": "leading zeros in decimal integer literals are not permitted; use an 0o prefix for octal integers (1408134083.py, line 1)",
     "output_type": "error",
     "traceback": [
      "\u001b[0;36m  Cell \u001b[0;32mIn[2], line 1\u001b[0;36m\u001b[0m\n\u001b[0;31m    PREFIX=https://raw.githubusercontent.com/DataTalksClub/machine-learning-zoomcamp/master/cohorts/2023/05-deployment/homework\u001b[0m\n\u001b[0m                                                                                                         ^\u001b[0m\n\u001b[0;31mSyntaxError\u001b[0m\u001b[0;31m:\u001b[0m leading zeros in decimal integer literals are not permitted; use an 0o prefix for octal integers\n"
     ]
    }
   ],
   "source": [
    "PREFIX=https://raw.githubusercontent.com/DataTalksClub/machine-learning-zoomcamp/master/cohorts/2023/05-deployment/homework\n",
    "wget $PREFIX/model1.bin\n",
    "wget $PREFIX/dv.bin"
   ]
  },
  {
   "cell_type": "markdown",
   "id": "af2cbed1",
   "metadata": {},
   "source": [
    "## ANSWER2 : sha256:0c275a06c5190c5ce00af0acbb61c06374087949f643ef32d355ece12c4db043\""
   ]
  },
  {
   "cell_type": "markdown",
   "id": "9194327b",
   "metadata": {},
   "source": [
    "## ANSWER3 : 0.902\n",
    "\n",
    "YOU CAN CHECK MY \"hw5_q3_fd.py\" file"
   ]
  },
  {
   "cell_type": "markdown",
   "id": "186c3826",
   "metadata": {},
   "source": [
    "## ANSWER4: 0.140\n",
    "\n",
    "YOU CAN RUN \"hw5_q4_fd_part1.py\" AND \"hw5_q4_fd_part1.py\""
   ]
  },
  {
   "cell_type": "code",
   "execution_count": 3,
   "id": "90feeae9",
   "metadata": {},
   "outputs": [
    {
     "name": "stdout",
     "output_type": "stream",
     "text": [
      "REPOSITORY              TAG            IMAGE ID       CREATED      SIZE\r\n",
      "svizor/zoomcamp-model   3.10.12-slim   08266c8f0c4b   7 days ago   147MB\r\n"
     ]
    }
   ],
   "source": [
    "!docker images svizor/zoomcamp-model:3.10.12-slim\n"
   ]
  },
  {
   "cell_type": "markdown",
   "id": "d8728aa0",
   "metadata": {},
   "source": [
    "## ANSWER5: 47mb"
   ]
  },
  {
   "cell_type": "markdown",
   "id": "07460c4a",
   "metadata": {},
   "source": [
    "## ANSWER6: 0.9019"
   ]
  },
  {
   "cell_type": "code",
   "execution_count": null,
   "id": "39196198",
   "metadata": {},
   "outputs": [],
   "source": []
  }
 ],
 "metadata": {
  "kernelspec": {
   "display_name": "Python 3 (ipykernel)",
   "language": "python",
   "name": "python3"
  },
  "language_info": {
   "codemirror_mode": {
    "name": "ipython",
    "version": 3
   },
   "file_extension": ".py",
   "mimetype": "text/x-python",
   "name": "python",
   "nbconvert_exporter": "python",
   "pygments_lexer": "ipython3",
   "version": "3.10.13"
  }
 },
 "nbformat": 4,
 "nbformat_minor": 5
}
